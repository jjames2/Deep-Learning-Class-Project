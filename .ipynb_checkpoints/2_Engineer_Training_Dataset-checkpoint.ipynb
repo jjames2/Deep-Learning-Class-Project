{
 "cells": [
  {
   "cell_type": "code",
   "execution_count": 1,
   "id": "221fd379",
   "metadata": {},
   "outputs": [],
   "source": [
    "import modin.pandas as pd\n",
    "import numpy as np\n",
    "\n",
    "import pickle\n",
    "\n",
    "from sklearn.preprocessing import QuantileTransformer\n",
    "\n",
    "import seaborn as sns"
   ]
  },
  {
   "cell_type": "code",
   "execution_count": 2,
   "id": "2984b506",
   "metadata": {},
   "outputs": [
    {
     "name": "stderr",
     "output_type": "stream",
     "text": [
      "UserWarning: Ray execution environment not yet initialized. Initializing...\n",
      "To remove this warning, run the following python code before doing dataframe operations:\n",
      "\n",
      "    import ray\n",
      "    ray.init()\n",
      "\n",
      "UserWarning: `read_pickle` defaulting to pandas implementation.\n",
      "To request implementation, send an email to feature_requests@modin.org.\n"
     ]
    },
    {
     "data": {
      "text/html": [
       "<div>\n",
       "<style scoped>\n",
       "    .dataframe tbody tr th:only-of-type {\n",
       "        vertical-align: middle;\n",
       "    }\n",
       "\n",
       "    .dataframe tbody tr th {\n",
       "        vertical-align: top;\n",
       "    }\n",
       "\n",
       "    .dataframe thead th {\n",
       "        text-align: right;\n",
       "    }\n",
       "</style>\n",
       "<table border=\"1\" class=\"dataframe\">\n",
       "  <thead>\n",
       "    <tr style=\"text-align: right;\">\n",
       "      <th></th>\n",
       "      <th>Loan Sequence Number</th>\n",
       "      <th>Loan Deliquency Within Year</th>\n",
       "      <th>Credit Score</th>\n",
       "      <th>First Payment Date</th>\n",
       "      <th>First Time Homebuyer Flag</th>\n",
       "      <th>Maturity Date</th>\n",
       "      <th>Metropolitan Statistical Area (MSA) Or Metropolitan Division</th>\n",
       "      <th>Mortgage Insurance Percentage (MI %)</th>\n",
       "      <th>Number of Units</th>\n",
       "      <th>Occupancy Status</th>\n",
       "      <th>...</th>\n",
       "      <th>Original Loan Term</th>\n",
       "      <th>Number of Borrowers</th>\n",
       "      <th>Seller Name</th>\n",
       "      <th>Servicer Name</th>\n",
       "      <th>Super Conforming Flag</th>\n",
       "      <th>Pre-HARP Loan Sequence Number</th>\n",
       "      <th>Program Indicator</th>\n",
       "      <th>HARP Indicator</th>\n",
       "      <th>Property Valuation Method</th>\n",
       "      <th>Interest Only (I/O) Indicator</th>\n",
       "    </tr>\n",
       "  </thead>\n",
       "  <tbody>\n",
       "    <tr>\n",
       "      <th>0</th>\n",
       "      <td>F110Q1000008</td>\n",
       "      <td>False</td>\n",
       "      <td>804</td>\n",
       "      <td>201004</td>\n",
       "      <td>N</td>\n",
       "      <td>204003</td>\n",
       "      <td>17860.0</td>\n",
       "      <td>0</td>\n",
       "      <td>1</td>\n",
       "      <td>P</td>\n",
       "      <td>...</td>\n",
       "      <td>360</td>\n",
       "      <td>2</td>\n",
       "      <td>Other sellers</td>\n",
       "      <td>U.S. BANK N.A.</td>\n",
       "      <td>NaN</td>\n",
       "      <td>NaN</td>\n",
       "      <td>9</td>\n",
       "      <td>NaN</td>\n",
       "      <td>9</td>\n",
       "      <td>NaN</td>\n",
       "    </tr>\n",
       "    <tr>\n",
       "      <th>1</th>\n",
       "      <td>F110Q1000064</td>\n",
       "      <td>False</td>\n",
       "      <td>816</td>\n",
       "      <td>201003</td>\n",
       "      <td>N</td>\n",
       "      <td>204002</td>\n",
       "      <td>44220.0</td>\n",
       "      <td>0</td>\n",
       "      <td>1</td>\n",
       "      <td>P</td>\n",
       "      <td>...</td>\n",
       "      <td>360</td>\n",
       "      <td>1</td>\n",
       "      <td>Other sellers</td>\n",
       "      <td>Other servicers</td>\n",
       "      <td>NaN</td>\n",
       "      <td>NaN</td>\n",
       "      <td>9</td>\n",
       "      <td>NaN</td>\n",
       "      <td>9</td>\n",
       "      <td>NaN</td>\n",
       "    </tr>\n",
       "    <tr>\n",
       "      <th>2</th>\n",
       "      <td>F110Q1000072</td>\n",
       "      <td>False</td>\n",
       "      <td>783</td>\n",
       "      <td>201003</td>\n",
       "      <td>N</td>\n",
       "      <td>204002</td>\n",
       "      <td>45820.0</td>\n",
       "      <td>0</td>\n",
       "      <td>1</td>\n",
       "      <td>P</td>\n",
       "      <td>...</td>\n",
       "      <td>360</td>\n",
       "      <td>2</td>\n",
       "      <td>Other sellers</td>\n",
       "      <td>U.S. BANK N.A.</td>\n",
       "      <td>NaN</td>\n",
       "      <td>NaN</td>\n",
       "      <td>9</td>\n",
       "      <td>NaN</td>\n",
       "      <td>9</td>\n",
       "      <td>NaN</td>\n",
       "    </tr>\n",
       "    <tr>\n",
       "      <th>3</th>\n",
       "      <td>F110Q1000080</td>\n",
       "      <td>False</td>\n",
       "      <td>667</td>\n",
       "      <td>201003</td>\n",
       "      <td>N</td>\n",
       "      <td>204002</td>\n",
       "      <td>17900.0</td>\n",
       "      <td>0</td>\n",
       "      <td>1</td>\n",
       "      <td>P</td>\n",
       "      <td>...</td>\n",
       "      <td>360</td>\n",
       "      <td>1</td>\n",
       "      <td>Other sellers</td>\n",
       "      <td>Other servicers</td>\n",
       "      <td>NaN</td>\n",
       "      <td>NaN</td>\n",
       "      <td>9</td>\n",
       "      <td>NaN</td>\n",
       "      <td>9</td>\n",
       "      <td>NaN</td>\n",
       "    </tr>\n",
       "    <tr>\n",
       "      <th>4</th>\n",
       "      <td>F110Q1000096</td>\n",
       "      <td>False</td>\n",
       "      <td>799</td>\n",
       "      <td>201003</td>\n",
       "      <td>N</td>\n",
       "      <td>204002</td>\n",
       "      <td>NaN</td>\n",
       "      <td>0</td>\n",
       "      <td>1</td>\n",
       "      <td>P</td>\n",
       "      <td>...</td>\n",
       "      <td>360</td>\n",
       "      <td>1</td>\n",
       "      <td>Other sellers</td>\n",
       "      <td>U.S. BANK N.A.</td>\n",
       "      <td>NaN</td>\n",
       "      <td>NaN</td>\n",
       "      <td>9</td>\n",
       "      <td>NaN</td>\n",
       "      <td>9</td>\n",
       "      <td>NaN</td>\n",
       "    </tr>\n",
       "  </tbody>\n",
       "</table>\n",
       "<p>5 rows x 32 columns</p>\n",
       "</div>"
      ],
      "text/plain": [
       "  Loan Sequence Number  Loan Deliquency Within Year  Credit Score  \\\n",
       "0         F110Q1000008                        False           804   \n",
       "1         F110Q1000064                        False           816   \n",
       "2         F110Q1000072                        False           783   \n",
       "3         F110Q1000080                        False           667   \n",
       "4         F110Q1000096                        False           799   \n",
       "\n",
       "   First Payment Date First Time Homebuyer Flag  Maturity Date  \\\n",
       "0              201004                         N         204003   \n",
       "1              201003                         N         204002   \n",
       "2              201003                         N         204002   \n",
       "3              201003                         N         204002   \n",
       "4              201003                         N         204002   \n",
       "\n",
       "   Metropolitan Statistical Area (MSA) Or Metropolitan Division  \\\n",
       "0                                            17860.0              \n",
       "1                                            44220.0              \n",
       "2                                            45820.0              \n",
       "3                                            17900.0              \n",
       "4                                                NaN              \n",
       "\n",
       "   Mortgage Insurance Percentage (MI %)  Number of Units Occupancy Status  \\\n",
       "0                                     0                1                P   \n",
       "1                                     0                1                P   \n",
       "2                                     0                1                P   \n",
       "3                                     0                1                P   \n",
       "4                                     0                1                P   \n",
       "\n",
       "   ...  Original Loan Term Number of Borrowers    Seller Name  \\\n",
       "0  ...                 360                   2  Other sellers   \n",
       "1  ...                 360                   1  Other sellers   \n",
       "2  ...                 360                   2  Other sellers   \n",
       "3  ...                 360                   1  Other sellers   \n",
       "4  ...                 360                   1  Other sellers   \n",
       "\n",
       "     Servicer Name Super Conforming Flag Pre-HARP Loan Sequence Number  \\\n",
       "0   U.S. BANK N.A.                   NaN                           NaN   \n",
       "1  Other servicers                   NaN                           NaN   \n",
       "2   U.S. BANK N.A.                   NaN                           NaN   \n",
       "3  Other servicers                   NaN                           NaN   \n",
       "4   U.S. BANK N.A.                   NaN                           NaN   \n",
       "\n",
       "  Program Indicator HARP Indicator Property Valuation Method  \\\n",
       "0                 9            NaN                         9   \n",
       "1                 9            NaN                         9   \n",
       "2                 9            NaN                         9   \n",
       "3                 9            NaN                         9   \n",
       "4                 9            NaN                         9   \n",
       "\n",
       "  Interest Only (I/O) Indicator  \n",
       "0                           NaN  \n",
       "1                           NaN  \n",
       "2                           NaN  \n",
       "3                           NaN  \n",
       "4                           NaN  \n",
       "\n",
       "[5 rows x 32 columns]"
      ]
     },
     "execution_count": 2,
     "metadata": {},
     "output_type": "execute_result"
    }
   ],
   "source": [
    "training_dat = pd.read_pickle('./PROCESSED/training_dat.pkl')\n",
    "training_dat.head()"
   ]
  },
  {
   "cell_type": "code",
   "execution_count": 3,
   "id": "eb40244f",
   "metadata": {},
   "outputs": [
    {
     "data": {
      "text/plain": [
       "Loan Sequence Number                                             object\n",
       "Loan Deliquency Within Year                                        bool\n",
       "Credit Score                                                      int64\n",
       "First Payment Date                                                int64\n",
       "First Time Homebuyer Flag                                        object\n",
       "Maturity Date                                                     int64\n",
       "Metropolitan Statistical Area (MSA) Or Metropolitan Division    float64\n",
       "Mortgage Insurance Percentage (MI %)                              int64\n",
       "Number of Units                                                   int64\n",
       "Occupancy Status                                                 object\n",
       "Original Combined Loan-to-Value (CLTV)                            int64\n",
       "Original Debt-to-Income (DTI) Ratio                               int64\n",
       "Original UPB                                                      int64\n",
       "Original Loan-to-Value (LTV)                                      int64\n",
       "Original Interest Rate                                          float64\n",
       "Channel                                                          object\n",
       "Prepayment Penalty Mortgage (PPM) Flag                           object\n",
       "Amortization Type (Formerly Product Type)                        object\n",
       "Property State                                                   object\n",
       "Property Type                                                    object\n",
       "Postal Code                                                       int64\n",
       "Loan Purpose                                                     object\n",
       "Original Loan Term                                                int64\n",
       "Number of Borrowers                                               int64\n",
       "Seller Name                                                      object\n",
       "Servicer Name                                                    object\n",
       "Super Conforming Flag                                            object\n",
       "Pre-HARP Loan Sequence Number                                    object\n",
       "Program Indicator                                                object\n",
       "HARP Indicator                                                   object\n",
       "Property Valuation Method                                         int64\n",
       "Interest Only (I/O) Indicator                                   float64\n",
       "dtype: object"
      ]
     },
     "execution_count": 3,
     "metadata": {},
     "output_type": "execute_result"
    }
   ],
   "source": [
    "training_dat.dtypes"
   ]
  },
  {
   "cell_type": "code",
   "execution_count": 4,
   "id": "3b73a713",
   "metadata": {},
   "outputs": [],
   "source": [
    "# Get rid of HARP record\n",
    "training_dat = training_dat[training_dat['HARP Indicator']!='Y'].copy()"
   ]
  },
  {
   "cell_type": "code",
   "execution_count": 5,
   "id": "aaf56a1b",
   "metadata": {},
   "outputs": [
    {
     "data": {
      "text/html": [
       "<div>\n",
       "<style scoped>\n",
       "    .dataframe tbody tr th:only-of-type {\n",
       "        vertical-align: middle;\n",
       "    }\n",
       "\n",
       "    .dataframe tbody tr th {\n",
       "        vertical-align: top;\n",
       "    }\n",
       "\n",
       "    .dataframe thead th {\n",
       "        text-align: right;\n",
       "    }\n",
       "</style>\n",
       "<table border=\"1\" class=\"dataframe\">\n",
       "  <thead>\n",
       "    <tr style=\"text-align: right;\">\n",
       "      <th></th>\n",
       "      <th>Loan Sequence Number</th>\n",
       "      <th>Loan Deliquency Within Year</th>\n",
       "    </tr>\n",
       "  </thead>\n",
       "  <tbody>\n",
       "    <tr>\n",
       "      <th>0</th>\n",
       "      <td>F110Q1000008</td>\n",
       "      <td>False</td>\n",
       "    </tr>\n",
       "    <tr>\n",
       "      <th>1</th>\n",
       "      <td>F110Q1000064</td>\n",
       "      <td>False</td>\n",
       "    </tr>\n",
       "    <tr>\n",
       "      <th>2</th>\n",
       "      <td>F110Q1000072</td>\n",
       "      <td>False</td>\n",
       "    </tr>\n",
       "    <tr>\n",
       "      <th>3</th>\n",
       "      <td>F110Q1000080</td>\n",
       "      <td>False</td>\n",
       "    </tr>\n",
       "    <tr>\n",
       "      <th>4</th>\n",
       "      <td>F110Q1000096</td>\n",
       "      <td>False</td>\n",
       "    </tr>\n",
       "  </tbody>\n",
       "</table>\n",
       "</div>"
      ],
      "text/plain": [
       "  Loan Sequence Number  Loan Deliquency Within Year\n",
       "0         F110Q1000008                        False\n",
       "1         F110Q1000064                        False\n",
       "2         F110Q1000072                        False\n",
       "3         F110Q1000080                        False\n",
       "4         F110Q1000096                        False"
      ]
     },
     "execution_count": 5,
     "metadata": {},
     "output_type": "execute_result"
    }
   ],
   "source": [
    "# The improved training dataset dataframe. Starting with initial columns, and then adding predictors\n",
    "training_dat2 = training_dat[['Loan Sequence Number','Loan Deliquency Within Year']].copy()\n",
    "training_dat2.head()"
   ]
  },
  {
   "cell_type": "code",
   "execution_count": 6,
   "id": "babc8daf",
   "metadata": {},
   "outputs": [],
   "source": [
    "# Storing scalers\n",
    "scaler_dct = {}"
   ]
  },
  {
   "cell_type": "code",
   "execution_count": 7,
   "id": "15f85534",
   "metadata": {},
   "outputs": [
    {
     "data": {
      "text/plain": [
       "count    396337.000000\n",
       "mean        755.107507\n",
       "std          81.524064\n",
       "min         508.000000\n",
       "25%         725.000000\n",
       "50%         764.000000\n",
       "75%         790.000000\n",
       "max        9999.000000\n",
       "Name: Credit Score, dtype: float64"
      ]
     },
     "execution_count": 7,
     "metadata": {},
     "output_type": "execute_result"
    }
   ],
   "source": [
    "# Cleaning Credit Score\n",
    "training_dat['Credit Score'].describe()"
   ]
  },
  {
   "cell_type": "code",
   "execution_count": 8,
   "id": "1924ee43",
   "metadata": {},
   "outputs": [
    {
     "data": {
      "text/plain": [
       "count    396315.000000\n",
       "mean        754.594366\n",
       "std          43.621586\n",
       "min         508.000000\n",
       "25%         725.000000\n",
       "50%         764.000000\n",
       "75%         790.000000\n",
       "max         850.000000\n",
       "Name: Credit Score, dtype: float64"
      ]
     },
     "execution_count": 8,
     "metadata": {},
     "output_type": "execute_result"
    }
   ],
   "source": [
    "tf = training_dat['Credit Score'] == 9999\n",
    "training_dat.loc[tf, 'Credit Score'] = np.nan\n",
    "training_dat['Credit Score'].describe()"
   ]
  },
  {
   "cell_type": "code",
   "execution_count": 9,
   "id": "569bc945",
   "metadata": {},
   "outputs": [
    {
     "data": {
      "text/html": [
       "<div>\n",
       "<style scoped>\n",
       "    .dataframe tbody tr th:only-of-type {\n",
       "        vertical-align: middle;\n",
       "    }\n",
       "\n",
       "    .dataframe tbody tr th {\n",
       "        vertical-align: top;\n",
       "    }\n",
       "\n",
       "    .dataframe thead th {\n",
       "        text-align: right;\n",
       "    }\n",
       "</style>\n",
       "<table border=\"1\" class=\"dataframe\">\n",
       "  <thead>\n",
       "    <tr style=\"text-align: right;\">\n",
       "      <th></th>\n",
       "      <th>Loan Sequence Number</th>\n",
       "      <th>Loan Deliquency Within Year</th>\n",
       "      <th>Credit Score</th>\n",
       "    </tr>\n",
       "  </thead>\n",
       "  <tbody>\n",
       "    <tr>\n",
       "      <th>0</th>\n",
       "      <td>F110Q1000008</td>\n",
       "      <td>False</td>\n",
       "      <td>1.315958</td>\n",
       "    </tr>\n",
       "    <tr>\n",
       "      <th>1</th>\n",
       "      <td>F110Q1000064</td>\n",
       "      <td>False</td>\n",
       "      <td>2.225823</td>\n",
       "    </tr>\n",
       "    <tr>\n",
       "      <th>2</th>\n",
       "      <td>F110Q1000072</td>\n",
       "      <td>False</td>\n",
       "      <td>0.451469</td>\n",
       "    </tr>\n",
       "    <tr>\n",
       "      <th>3</th>\n",
       "      <td>F110Q1000080</td>\n",
       "      <td>False</td>\n",
       "      <td>-1.733071</td>\n",
       "    </tr>\n",
       "    <tr>\n",
       "      <th>4</th>\n",
       "      <td>F110Q1000096</td>\n",
       "      <td>False</td>\n",
       "      <td>1.033647</td>\n",
       "    </tr>\n",
       "  </tbody>\n",
       "</table>\n",
       "</div>"
      ],
      "text/plain": [
       "  Loan Sequence Number  Loan Deliquency Within Year  Credit Score\n",
       "0         F110Q1000008                        False      1.315958\n",
       "1         F110Q1000064                        False      2.225823\n",
       "2         F110Q1000072                        False      0.451469\n",
       "3         F110Q1000080                        False     -1.733071\n",
       "4         F110Q1000096                        False      1.033647"
      ]
     },
     "execution_count": 9,
     "metadata": {},
     "output_type": "execute_result"
    }
   ],
   "source": [
    "scaler_0_1_creditscore = QuantileTransformer(output_distribution='normal')\n",
    "training_dat2['Credit Score'] = scaler_0_1_creditscore.fit_transform(training_dat[['Credit Score']])\n",
    "training_dat2.head()"
   ]
  },
  {
   "cell_type": "code",
   "execution_count": 10,
   "id": "3a0cf35a",
   "metadata": {},
   "outputs": [
    {
     "data": {
      "text/plain": [
       "<seaborn.axisgrid.FacetGrid at 0x212d511c080>"
      ]
     },
     "execution_count": 10,
     "metadata": {},
     "output_type": "execute_result"
    },
    {
     "data": {
      "image/png": "[encoded data removed]",
      "text/plain": [
       "<Figure size 360x360 with 1 Axes>"
      ]
     },
     "metadata": {
      "needs_background": "light"
     },
     "output_type": "display_data"
    }
   ],
   "source": [
    "sns.displot(x='Credit Score',data=training_dat2)"
   ]
  },
  {
   "cell_type": "code",
   "execution_count": 11,
   "id": "53816cb0",
   "metadata": {},
   "outputs": [
    {
     "data": {
      "text/plain": [
       "0    804\n",
       "1    816\n",
       "2    783\n",
       "3    667\n",
       "4    799\n",
       "Name: Credit Score, dtype: int64"
      ]
     },
     "execution_count": 11,
     "metadata": {},
     "output_type": "execute_result"
    }
   ],
   "source": [
    "training_dat['Credit Score'].head()"
   ]
  },
  {
   "cell_type": "code",
   "execution_count": 12,
   "id": "69450206",
   "metadata": {},
   "outputs": [],
   "source": [
    "scaler_dct['Credit Score'] = scaler_0_1_creditscore"
   ]
  },
  {
   "cell_type": "code",
   "execution_count": 13,
   "id": "923cc69b",
   "metadata": {},
   "outputs": [
    {
     "name": "stderr",
     "output_type": "stream",
     "text": [
      "UserWarning: value_counts defaulting to pandas implementation.\n"
     ]
    },
    {
     "data": {
      "text/plain": [
       "9    215276\n",
       "N    117864\n",
       "Y     63197\n",
       "Name: First Time Homebuyer Flag, dtype: int64"
      ]
     },
     "execution_count": 13,
     "metadata": {},
     "output_type": "execute_result"
    }
   ],
   "source": [
    "# Cleaning First Time Homebuyer Flag\n",
    "training_dat['First Time Homebuyer Flag'].value_counts()"
   ]
  },
  {
   "cell_type": "code",
   "execution_count": 14,
   "id": "96e035c0",
   "metadata": {},
   "outputs": [
    {
     "data": {
      "text/html": [
       "<div>\n",
       "<style scoped>\n",
       "    .dataframe tbody tr th:only-of-type {\n",
       "        vertical-align: middle;\n",
       "    }\n",
       "\n",
       "    .dataframe tbody tr th {\n",
       "        vertical-align: top;\n",
       "    }\n",
       "\n",
       "    .dataframe thead th {\n",
       "        text-align: right;\n",
       "    }\n",
       "</style>\n",
       "<table border=\"1\" class=\"dataframe\">\n",
       "  <thead>\n",
       "    <tr style=\"text-align: right;\">\n",
       "      <th></th>\n",
       "      <th>Loan Sequence Number</th>\n",
       "      <th>Loan Deliquency Within Year</th>\n",
       "      <th>Credit Score</th>\n",
       "      <th>First Time Homebuyer Flag</th>\n",
       "    </tr>\n",
       "  </thead>\n",
       "  <tbody>\n",
       "    <tr>\n",
       "      <th>0</th>\n",
       "      <td>F110Q1000008</td>\n",
       "      <td>False</td>\n",
       "      <td>1.315958</td>\n",
       "      <td>False</td>\n",
       "    </tr>\n",
       "    <tr>\n",
       "      <th>1</th>\n",
       "      <td>F110Q1000064</td>\n",
       "      <td>False</td>\n",
       "      <td>2.225823</td>\n",
       "      <td>False</td>\n",
       "    </tr>\n",
       "    <tr>\n",
       "      <th>2</th>\n",
       "      <td>F110Q1000072</td>\n",
       "      <td>False</td>\n",
       "      <td>0.451469</td>\n",
       "      <td>False</td>\n",
       "    </tr>\n",
       "    <tr>\n",
       "      <th>3</th>\n",
       "      <td>F110Q1000080</td>\n",
       "      <td>False</td>\n",
       "      <td>-1.733071</td>\n",
       "      <td>False</td>\n",
       "    </tr>\n",
       "    <tr>\n",
       "      <th>4</th>\n",
       "      <td>F110Q1000096</td>\n",
       "      <td>False</td>\n",
       "      <td>1.033647</td>\n",
       "      <td>False</td>\n",
       "    </tr>\n",
       "  </tbody>\n",
       "</table>\n",
       "</div>"
      ],
      "text/plain": [
       "  Loan Sequence Number  Loan Deliquency Within Year  Credit Score  \\\n",
       "0         F110Q1000008                        False      1.315958   \n",
       "1         F110Q1000064                        False      2.225823   \n",
       "2         F110Q1000072                        False      0.451469   \n",
       "3         F110Q1000080                        False     -1.733071   \n",
       "4         F110Q1000096                        False      1.033647   \n",
       "\n",
       "  First Time Homebuyer Flag  \n",
       "0                     False  \n",
       "1                     False  \n",
       "2                     False  \n",
       "3                     False  \n",
       "4                     False  "
      ]
     },
     "execution_count": 14,
     "metadata": {},
     "output_type": "execute_result"
    }
   ],
   "source": [
    "training_dat2['First Time Homebuyer Flag'] = np.nan\n",
    "tf1 = training_dat['First Time Homebuyer Flag'] == 'Y'\n",
    "training_dat2.loc[tf1, 'First Time Homebuyer Flag'] = True\n",
    "tf2 = training_dat['First Time Homebuyer Flag'] == 'N'\n",
    "training_dat2.loc[tf2, 'First Time Homebuyer Flag'] = False\n",
    "training_dat2.head()"
   ]
  },
  {
   "cell_type": "code",
   "execution_count": 15,
   "id": "be00ab61",
   "metadata": {},
   "outputs": [
    {
     "data": {
      "text/plain": [
       "array([False, True, nan], dtype=object)"
      ]
     },
     "execution_count": 15,
     "metadata": {},
     "output_type": "execute_result"
    }
   ],
   "source": [
    "training_dat2['First Time Homebuyer Flag'].unique()"
   ]
  },
  {
   "cell_type": "code",
   "execution_count": 16,
   "id": "32a088ed",
   "metadata": {},
   "outputs": [
    {
     "data": {
      "text/html": [
       "<div>\n",
       "<style scoped>\n",
       "    .dataframe tbody tr th:only-of-type {\n",
       "        vertical-align: middle;\n",
       "    }\n",
       "\n",
       "    .dataframe tbody tr th {\n",
       "        vertical-align: top;\n",
       "    }\n",
       "\n",
       "    .dataframe thead th {\n",
       "        text-align: right;\n",
       "    }\n",
       "</style>\n",
       "<table border=\"1\" class=\"dataframe\">\n",
       "  <thead>\n",
       "    <tr style=\"text-align: right;\">\n",
       "      <th></th>\n",
       "      <th>Loan Sequence Number</th>\n",
       "      <th>First Time Homebuyer Flag</th>\n",
       "    </tr>\n",
       "  </thead>\n",
       "  <tbody>\n",
       "    <tr>\n",
       "      <th>7</th>\n",
       "      <td>F110Q1000168</td>\n",
       "      <td>Y</td>\n",
       "    </tr>\n",
       "    <tr>\n",
       "      <th>18</th>\n",
       "      <td>F110Q1000443</td>\n",
       "      <td>Y</td>\n",
       "    </tr>\n",
       "    <tr>\n",
       "      <th>37</th>\n",
       "      <td>F110Q1000922</td>\n",
       "      <td>Y</td>\n",
       "    </tr>\n",
       "    <tr>\n",
       "      <th>38</th>\n",
       "      <td>F110Q1000963</td>\n",
       "      <td>Y</td>\n",
       "    </tr>\n",
       "    <tr>\n",
       "      <th>43</th>\n",
       "      <td>F110Q1001060</td>\n",
       "      <td>Y</td>\n",
       "    </tr>\n",
       "  </tbody>\n",
       "</table>\n",
       "</div>"
      ],
      "text/plain": [
       "   Loan Sequence Number First Time Homebuyer Flag\n",
       "7          F110Q1000168                         Y\n",
       "18         F110Q1000443                         Y\n",
       "37         F110Q1000922                         Y\n",
       "38         F110Q1000963                         Y\n",
       "43         F110Q1001060                         Y"
      ]
     },
     "execution_count": 16,
     "metadata": {},
     "output_type": "execute_result"
    }
   ],
   "source": [
    "training_dat[training_dat['First Time Homebuyer Flag']=='Y'][['Loan Sequence Number','First Time Homebuyer Flag']].head()"
   ]
  },
  {
   "cell_type": "code",
   "execution_count": 17,
   "id": "95a52a08",
   "metadata": {},
   "outputs": [
    {
     "data": {
      "text/html": [
       "<div>\n",
       "<style scoped>\n",
       "    .dataframe tbody tr th:only-of-type {\n",
       "        vertical-align: middle;\n",
       "    }\n",
       "\n",
       "    .dataframe tbody tr th {\n",
       "        vertical-align: top;\n",
       "    }\n",
       "\n",
       "    .dataframe thead th {\n",
       "        text-align: right;\n",
       "    }\n",
       "</style>\n",
       "<table border=\"1\" class=\"dataframe\">\n",
       "  <thead>\n",
       "    <tr style=\"text-align: right;\">\n",
       "      <th></th>\n",
       "      <th>Loan Sequence Number</th>\n",
       "      <th>Loan Deliquency Within Year</th>\n",
       "      <th>Credit Score</th>\n",
       "      <th>First Time Homebuyer Flag</th>\n",
       "    </tr>\n",
       "  </thead>\n",
       "  <tbody>\n",
       "    <tr>\n",
       "      <th>7</th>\n",
       "      <td>F110Q1000168</td>\n",
       "      <td>False</td>\n",
       "      <td>-0.465405</td>\n",
       "      <td>True</td>\n",
       "    </tr>\n",
       "    <tr>\n",
       "      <th>18</th>\n",
       "      <td>F110Q1000443</td>\n",
       "      <td>False</td>\n",
       "      <td>0.396560</td>\n",
       "      <td>True</td>\n",
       "    </tr>\n",
       "    <tr>\n",
       "      <th>37</th>\n",
       "      <td>F110Q1000922</td>\n",
       "      <td>False</td>\n",
       "      <td>1.959536</td>\n",
       "      <td>True</td>\n",
       "    </tr>\n",
       "    <tr>\n",
       "      <th>38</th>\n",
       "      <td>F110Q1000963</td>\n",
       "      <td>False</td>\n",
       "      <td>-1.895259</td>\n",
       "      <td>True</td>\n",
       "    </tr>\n",
       "    <tr>\n",
       "      <th>43</th>\n",
       "      <td>F110Q1001060</td>\n",
       "      <td>False</td>\n",
       "      <td>0.670557</td>\n",
       "      <td>True</td>\n",
       "    </tr>\n",
       "  </tbody>\n",
       "</table>\n",
       "</div>"
      ],
      "text/plain": [
       "   Loan Sequence Number  Loan Deliquency Within Year  Credit Score  \\\n",
       "7          F110Q1000168                        False     -0.465405   \n",
       "18         F110Q1000443                        False      0.396560   \n",
       "37         F110Q1000922                        False      1.959536   \n",
       "38         F110Q1000963                        False     -1.895259   \n",
       "43         F110Q1001060                        False      0.670557   \n",
       "\n",
       "   First Time Homebuyer Flag  \n",
       "7                       True  \n",
       "18                      True  \n",
       "37                      True  \n",
       "38                      True  \n",
       "43                      True  "
      ]
     },
     "execution_count": 17,
     "metadata": {},
     "output_type": "execute_result"
    }
   ],
   "source": [
    "training_dat2[training_dat2['First Time Homebuyer Flag']==True].head()"
   ]
  },
  {
   "cell_type": "code",
   "execution_count": 18,
   "id": "eac5a0cc",
   "metadata": {},
   "outputs": [
    {
     "data": {
      "text/plain": [
       "count    396337.000000\n",
       "mean          5.540459\n",
       "std          10.918153\n",
       "min           0.000000\n",
       "25%           0.000000\n",
       "50%           0.000000\n",
       "75%           0.000000\n",
       "max          40.000000\n",
       "Name: Mortgage Insurance Percentage (MI %), dtype: float64"
      ]
     },
     "execution_count": 18,
     "metadata": {},
     "output_type": "execute_result"
    }
   ],
   "source": [
    "# Cleaning Mortgage Insurance Percentage (MI %)\n",
    "training_dat['Mortgage Insurance Percentage (MI %)'].describe()"
   ]
  },
  {
   "cell_type": "code",
   "execution_count": 19,
   "id": "5e04bdb2",
   "metadata": {},
   "outputs": [
    {
     "name": "stderr",
     "output_type": "stream",
     "text": [
      "FutureWarning: `distplot` is a deprecated function and will be removed in a future version. Please adapt your code to use either `displot` (a figure-level function with similar flexibility) or `histplot` (an axes-level function for histograms).\n"
     ]
    },
    {
     "data": {
      "text/plain": [
       "<AxesSubplot:xlabel='Mortgage Insurance Percentage (MI %)', ylabel='Density'>"
      ]
     },
     "execution_count": 19,
     "metadata": {},
     "output_type": "execute_result"
    },
    {
     "data": {
      "image/png": "[encoded data removed]",
      "text/plain": [
       "<Figure size 432x288 with 1 Axes>"
      ]
     },
     "metadata": {
      "needs_background": "light"
     },
     "output_type": "display_data"
    }
   ],
   "source": [
    "sns.distplot(training_dat['Mortgage Insurance Percentage (MI %)'])"
   ]
  },
  {
   "cell_type": "code",
   "execution_count": 20,
   "id": "4c462f3c",
   "metadata": {},
   "outputs": [
    {
     "data": {
      "text/plain": [
       "array([ 0, 30, 25, 12, 17, 20,  6, 35, 14, 18, 16, 13, 15, 36, 40,  7, 37,\n",
       "       27, 22, 32, 26], dtype=int64)"
      ]
     },
     "execution_count": 20,
     "metadata": {},
     "output_type": "execute_result"
    }
   ],
   "source": [
    "training_dat['Mortgage Insurance Percentage (MI %)'].unique()"
   ]
  },
  {
   "cell_type": "code",
   "execution_count": 21,
   "id": "19bd9180",
   "metadata": {},
   "outputs": [],
   "source": [
    "# scaler_0_1_mortpct = QuantileTransformer(output_distribution='normal')\n",
    "# training_dat2['Mortgage Insurance Percentage (MI %)'] = scaler_0_1_mortpct.fit_transform(training_dat[['Mortgage Insurance Percentage (MI %)']])\n",
    "# training_dat2.head()"
   ]
  },
  {
   "cell_type": "code",
   "execution_count": 26,
   "id": "d46cf2ae",
   "metadata": {},
   "outputs": [],
   "source": [
    "# scaler_dct['Mortgage Insurance Percentage (MI %)'] = scaler_0_1_mortpct"
   ]
  },
  {
   "cell_type": "code",
   "execution_count": 28,
   "id": "cc705d33",
   "metadata": {},
   "outputs": [],
   "source": [
    "training_dat2['MortgageInsuranceFlag'] = 1\n",
    "\n",
    "tf = training_dat['Mortgage Insurance Percentage (MI %)'] == 0\n",
    "training_dat2.loc[tf, 'MortgageInsuranceFlag'] = 0"
   ]
  },
  {
   "cell_type": "code",
   "execution_count": 29,
   "id": "12790520",
   "metadata": {},
   "outputs": [
    {
     "data": {
      "text/plain": [
       "array([1, 4, 2, 3], dtype=int64)"
      ]
     },
     "execution_count": 29,
     "metadata": {},
     "output_type": "execute_result"
    }
   ],
   "source": [
    "# Transform Number of Units\n",
    "training_dat['Number of Units'].unique()"
   ]
  },
  {
   "cell_type": "code",
   "execution_count": 30,
   "id": "ff7852c4",
   "metadata": {},
   "outputs": [
    {
     "name": "stderr",
     "output_type": "stream",
     "text": [
      "FutureWarning: `distplot` is a deprecated function and will be removed in a future version. Please adapt your code to use either `displot` (a figure-level function with similar flexibility) or `histplot` (an axes-level function for histograms).\n"
     ]
    },
    {
     "data": {
      "text/plain": [
       "<AxesSubplot:xlabel='Number of Units', ylabel='Density'>"
      ]
     },
     "execution_count": 30,
     "metadata": {},
     "output_type": "execute_result"
    },
    {
     "data": {
      "image/png": "[encoded data removed]",
      "text/plain": [
       "<Figure size 432x288 with 1 Axes>"
      ]
     },
     "metadata": {
      "needs_background": "light"
     },
     "output_type": "display_data"
    }
   ],
   "source": [
    "sns.distplot(training_dat['Number of Units'])"
   ]
  },
  {
   "cell_type": "code",
   "execution_count": 31,
   "id": "6e4a6509",
   "metadata": {},
   "outputs": [
    {
     "name": "stderr",
     "output_type": "stream",
     "text": [
      "UserWarning: `get_dummies` on non-DataFrame defaulting to pandas implementation.\n",
      "UserWarning: Distributing <class 'pandas.core.frame.DataFrame'> object. This may take some time.\n"
     ]
    },
    {
     "data": {
      "text/html": [
       "<div>\n",
       "<style scoped>\n",
       "    .dataframe tbody tr th:only-of-type {\n",
       "        vertical-align: middle;\n",
       "    }\n",
       "\n",
       "    .dataframe tbody tr th {\n",
       "        vertical-align: top;\n",
       "    }\n",
       "\n",
       "    .dataframe thead th {\n",
       "        text-align: right;\n",
       "    }\n",
       "</style>\n",
       "<table border=\"1\" class=\"dataframe\">\n",
       "  <thead>\n",
       "    <tr style=\"text-align: right;\">\n",
       "      <th></th>\n",
       "      <th>Loan Sequence Number</th>\n",
       "      <th>Loan Deliquency Within Year</th>\n",
       "      <th>Credit Score</th>\n",
       "      <th>First Time Homebuyer Flag</th>\n",
       "      <th>MortgageInsuranceFlag</th>\n",
       "      <th>Units_1</th>\n",
       "      <th>Units_2</th>\n",
       "      <th>Units_3</th>\n",
       "      <th>Units_4</th>\n",
       "    </tr>\n",
       "  </thead>\n",
       "  <tbody>\n",
       "    <tr>\n",
       "      <th>0</th>\n",
       "      <td>F110Q1000008</td>\n",
       "      <td>False</td>\n",
       "      <td>1.315958</td>\n",
       "      <td>False</td>\n",
       "      <td>0</td>\n",
       "      <td>1</td>\n",
       "      <td>0</td>\n",
       "      <td>0</td>\n",
       "      <td>0</td>\n",
       "    </tr>\n",
       "    <tr>\n",
       "      <th>1</th>\n",
       "      <td>F110Q1000064</td>\n",
       "      <td>False</td>\n",
       "      <td>2.225823</td>\n",
       "      <td>False</td>\n",
       "      <td>0</td>\n",
       "      <td>1</td>\n",
       "      <td>0</td>\n",
       "      <td>0</td>\n",
       "      <td>0</td>\n",
       "    </tr>\n",
       "    <tr>\n",
       "      <th>2</th>\n",
       "      <td>F110Q1000072</td>\n",
       "      <td>False</td>\n",
       "      <td>0.451469</td>\n",
       "      <td>False</td>\n",
       "      <td>0</td>\n",
       "      <td>1</td>\n",
       "      <td>0</td>\n",
       "      <td>0</td>\n",
       "      <td>0</td>\n",
       "    </tr>\n",
       "    <tr>\n",
       "      <th>3</th>\n",
       "      <td>F110Q1000080</td>\n",
       "      <td>False</td>\n",
       "      <td>-1.733071</td>\n",
       "      <td>False</td>\n",
       "      <td>0</td>\n",
       "      <td>1</td>\n",
       "      <td>0</td>\n",
       "      <td>0</td>\n",
       "      <td>0</td>\n",
       "    </tr>\n",
       "    <tr>\n",
       "      <th>4</th>\n",
       "      <td>F110Q1000096</td>\n",
       "      <td>False</td>\n",
       "      <td>1.033647</td>\n",
       "      <td>False</td>\n",
       "      <td>0</td>\n",
       "      <td>1</td>\n",
       "      <td>0</td>\n",
       "      <td>0</td>\n",
       "      <td>0</td>\n",
       "    </tr>\n",
       "  </tbody>\n",
       "</table>\n",
       "</div>"
      ],
      "text/plain": [
       "  Loan Sequence Number  Loan Deliquency Within Year  Credit Score  \\\n",
       "0         F110Q1000008                        False      1.315958   \n",
       "1         F110Q1000064                        False      2.225823   \n",
       "2         F110Q1000072                        False      0.451469   \n",
       "3         F110Q1000080                        False     -1.733071   \n",
       "4         F110Q1000096                        False      1.033647   \n",
       "\n",
       "  First Time Homebuyer Flag  MortgageInsuranceFlag  Units_1  Units_2  Units_3  \\\n",
       "0                     False                      0        1        0        0   \n",
       "1                     False                      0        1        0        0   \n",
       "2                     False                      0        1        0        0   \n",
       "3                     False                      0        1        0        0   \n",
       "4                     False                      0        1        0        0   \n",
       "\n",
       "   Units_4  \n",
       "0        0  \n",
       "1        0  \n",
       "2        0  \n",
       "3        0  \n",
       "4        0  "
      ]
     },
     "execution_count": 31,
     "metadata": {},
     "output_type": "execute_result"
    }
   ],
   "source": [
    "dum_df = pd.get_dummies(training_dat['Number of Units'],prefix='Units')\n",
    "for col in list(dum_df.columns):\n",
    "    training_dat2[col] = dum_df[col]\n",
    "training_dat2.head()"
   ]
  },
  {
   "cell_type": "code",
   "execution_count": 32,
   "id": "dec25824",
   "metadata": {},
   "outputs": [
    {
     "data": {
      "text/plain": [
       "array(['P', 'I', 'S'], dtype=object)"
      ]
     },
     "execution_count": 32,
     "metadata": {},
     "output_type": "execute_result"
    }
   ],
   "source": [
    "# Clean/Transform Occupancy Status\n",
    "training_dat['Occupancy Status'].unique()"
   ]
  },
  {
   "cell_type": "code",
   "execution_count": 33,
   "id": "8d65b8de",
   "metadata": {},
   "outputs": [
    {
     "name": "stderr",
     "output_type": "stream",
     "text": [
      "UserWarning: value_counts defaulting to pandas implementation.\n"
     ]
    },
    {
     "data": {
      "text/plain": [
       "P    351163\n",
       "I     28686\n",
       "S     16488\n",
       "Name: Occupancy Status, dtype: int64"
      ]
     },
     "execution_count": 33,
     "metadata": {},
     "output_type": "execute_result"
    }
   ],
   "source": [
    "training_dat['Occupancy Status'].value_counts()"
   ]
  },
  {
   "cell_type": "code",
   "execution_count": 34,
   "id": "023088d7",
   "metadata": {},
   "outputs": [
    {
     "name": "stderr",
     "output_type": "stream",
     "text": [
      "UserWarning: `get_dummies` on non-DataFrame defaulting to pandas implementation.\n",
      "UserWarning: Distributing <class 'pandas.core.frame.DataFrame'> object. This may take some time.\n"
     ]
    },
    {
     "data": {
      "text/html": [
       "<div>\n",
       "<style scoped>\n",
       "    .dataframe tbody tr th:only-of-type {\n",
       "        vertical-align: middle;\n",
       "    }\n",
       "\n",
       "    .dataframe tbody tr th {\n",
       "        vertical-align: top;\n",
       "    }\n",
       "\n",
       "    .dataframe thead th {\n",
       "        text-align: right;\n",
       "    }\n",
       "</style>\n",
       "<table border=\"1\" class=\"dataframe\">\n",
       "  <thead>\n",
       "    <tr style=\"text-align: right;\">\n",
       "      <th></th>\n",
       "      <th>Loan Sequence Number</th>\n",
       "      <th>Loan Deliquency Within Year</th>\n",
       "      <th>Credit Score</th>\n",
       "      <th>First Time Homebuyer Flag</th>\n",
       "      <th>MortgageInsuranceFlag</th>\n",
       "      <th>Units_1</th>\n",
       "      <th>Units_2</th>\n",
       "      <th>Units_3</th>\n",
       "      <th>Units_4</th>\n",
       "      <th>OccupancyStatus_I</th>\n",
       "      <th>OccupancyStatus_P</th>\n",
       "      <th>OccupancyStatus_S</th>\n",
       "    </tr>\n",
       "  </thead>\n",
       "  <tbody>\n",
       "    <tr>\n",
       "      <th>0</th>\n",
       "      <td>F110Q1000008</td>\n",
       "      <td>False</td>\n",
       "      <td>1.315958</td>\n",
       "      <td>False</td>\n",
       "      <td>0</td>\n",
       "      <td>1</td>\n",
       "      <td>0</td>\n",
       "      <td>0</td>\n",
       "      <td>0</td>\n",
       "      <td>0</td>\n",
       "      <td>1</td>\n",
       "      <td>0</td>\n",
       "    </tr>\n",
       "    <tr>\n",
       "      <th>1</th>\n",
       "      <td>F110Q1000064</td>\n",
       "      <td>False</td>\n",
       "      <td>2.225823</td>\n",
       "      <td>False</td>\n",
       "      <td>0</td>\n",
       "      <td>1</td>\n",
       "      <td>0</td>\n",
       "      <td>0</td>\n",
       "      <td>0</td>\n",
       "      <td>0</td>\n",
       "      <td>1</td>\n",
       "      <td>0</td>\n",
       "    </tr>\n",
       "    <tr>\n",
       "      <th>2</th>\n",
       "      <td>F110Q1000072</td>\n",
       "      <td>False</td>\n",
       "      <td>0.451469</td>\n",
       "      <td>False</td>\n",
       "      <td>0</td>\n",
       "      <td>1</td>\n",
       "      <td>0</td>\n",
       "      <td>0</td>\n",
       "      <td>0</td>\n",
       "      <td>0</td>\n",
       "      <td>1</td>\n",
       "      <td>0</td>\n",
       "    </tr>\n",
       "    <tr>\n",
       "      <th>3</th>\n",
       "      <td>F110Q1000080</td>\n",
       "      <td>False</td>\n",
       "      <td>-1.733071</td>\n",
       "      <td>False</td>\n",
       "      <td>0</td>\n",
       "      <td>1</td>\n",
       "      <td>0</td>\n",
       "      <td>0</td>\n",
       "      <td>0</td>\n",
       "      <td>0</td>\n",
       "      <td>1</td>\n",
       "      <td>0</td>\n",
       "    </tr>\n",
       "    <tr>\n",
       "      <th>4</th>\n",
       "      <td>F110Q1000096</td>\n",
       "      <td>False</td>\n",
       "      <td>1.033647</td>\n",
       "      <td>False</td>\n",
       "      <td>0</td>\n",
       "      <td>1</td>\n",
       "      <td>0</td>\n",
       "      <td>0</td>\n",
       "      <td>0</td>\n",
       "      <td>0</td>\n",
       "      <td>1</td>\n",
       "      <td>0</td>\n",
       "    </tr>\n",
       "  </tbody>\n",
       "</table>\n",
       "</div>"
      ],
      "text/plain": [
       "  Loan Sequence Number  Loan Deliquency Within Year  Credit Score  \\\n",
       "0         F110Q1000008                        False      1.315958   \n",
       "1         F110Q1000064                        False      2.225823   \n",
       "2         F110Q1000072                        False      0.451469   \n",
       "3         F110Q1000080                        False     -1.733071   \n",
       "4         F110Q1000096                        False      1.033647   \n",
       "\n",
       "  First Time Homebuyer Flag  MortgageInsuranceFlag  Units_1  Units_2  Units_3  \\\n",
       "0                     False                      0        1        0        0   \n",
       "1                     False                      0        1        0        0   \n",
       "2                     False                      0        1        0        0   \n",
       "3                     False                      0        1        0        0   \n",
       "4                     False                      0        1        0        0   \n",
       "\n",
       "   Units_4  OccupancyStatus_I  OccupancyStatus_P  OccupancyStatus_S  \n",
       "0        0                  0                  1                  0  \n",
       "1        0                  0                  1                  0  \n",
       "2        0                  0                  1                  0  \n",
       "3        0                  0                  1                  0  \n",
       "4        0                  0                  1                  0  "
      ]
     },
     "execution_count": 34,
     "metadata": {},
     "output_type": "execute_result"
    }
   ],
   "source": [
    "dum_df = pd.get_dummies(training_dat['Occupancy Status'],prefix='OccupancyStatus')\n",
    "for col in list(dum_df.columns):\n",
    "    training_dat2[col] = dum_df[col]\n",
    "training_dat2.head()"
   ]
  },
  {
   "cell_type": "code",
   "execution_count": 35,
   "id": "3e8e4f5f",
   "metadata": {},
   "outputs": [
    {
     "data": {
      "text/plain": [
       "count    396337.000000\n",
       "mean         72.872349\n",
       "std          17.604025\n",
       "min           6.000000\n",
       "25%          64.000000\n",
       "50%          78.000000\n",
       "75%          80.000000\n",
       "max         999.000000\n",
       "Name: Original Combined Loan-to-Value (CLTV), dtype: float64"
      ]
     },
     "execution_count": 35,
     "metadata": {},
     "output_type": "execute_result"
    }
   ],
   "source": [
    "# Clean Original Combined Loan-to-Value (CLTV)\n",
    "training_dat['Original Combined Loan-to-Value (CLTV)'].describe()"
   ]
  },
  {
   "cell_type": "code",
   "execution_count": 36,
   "id": "fe82cb31",
   "metadata": {},
   "outputs": [],
   "source": [
    "tf = training_dat['Original Combined Loan-to-Value (CLTV)'] == 999\n",
    "training_dat.loc[tf, 'Original Combined Loan-to-Value (CLTV)'] = np.nan"
   ]
  },
  {
   "cell_type": "code",
   "execution_count": 37,
   "id": "1b689644",
   "metadata": {},
   "outputs": [
    {
     "name": "stderr",
     "output_type": "stream",
     "text": [
      "FutureWarning: `distplot` is a deprecated function and will be removed in a future version. Please adapt your code to use either `displot` (a figure-level function with similar flexibility) or `histplot` (an axes-level function for histograms).\n"
     ]
    },
    {
     "data": {
      "text/plain": [
       "<AxesSubplot:xlabel='Original Combined Loan-to-Value (CLTV)', ylabel='Density'>"
      ]
     },
     "execution_count": 37,
     "metadata": {},
     "output_type": "execute_result"
    },
    {
     "data": {
      "image/png": "[encoded data removed]",
      "text/plain": [
       "<Figure size 432x288 with 1 Axes>"
      ]
     },
     "metadata": {
      "needs_background": "light"
     },
     "output_type": "display_data"
    }
   ],
   "source": [
    "sns.distplot(training_dat['Original Combined Loan-to-Value (CLTV)'])"
   ]
  },
  {
   "cell_type": "code",
   "execution_count": 42,
   "id": "a2297ac8",
   "metadata": {},
   "outputs": [
    {
     "data": {
      "text/html": [
       "<div>\n",
       "<style scoped>\n",
       "    .dataframe tbody tr th:only-of-type {\n",
       "        vertical-align: middle;\n",
       "    }\n",
       "\n",
       "    .dataframe tbody tr th {\n",
       "        vertical-align: top;\n",
       "    }\n",
       "\n",
       "    .dataframe thead th {\n",
       "        text-align: right;\n",
       "    }\n",
       "</style>\n",
       "<table border=\"1\" class=\"dataframe\">\n",
       "  <thead>\n",
       "    <tr style=\"text-align: right;\">\n",
       "      <th></th>\n",
       "      <th>Loan Sequence Number</th>\n",
       "      <th>Loan Deliquency Within Year</th>\n",
       "      <th>Credit Score</th>\n",
       "      <th>First Time Homebuyer Flag</th>\n",
       "      <th>MortgageInsuranceFlag</th>\n",
       "      <th>Units_1</th>\n",
       "      <th>Units_2</th>\n",
       "      <th>Units_3</th>\n",
       "      <th>Units_4</th>\n",
       "      <th>OccupancyStatus_I</th>\n",
       "      <th>OccupancyStatus_P</th>\n",
       "      <th>OccupancyStatus_S</th>\n",
       "      <th>Original Combined Loan-to-Value (CLTV)</th>\n",
       "    </tr>\n",
       "  </thead>\n",
       "  <tbody>\n",
       "    <tr>\n",
       "      <th>0</th>\n",
       "      <td>F110Q1000008</td>\n",
       "      <td>False</td>\n",
       "      <td>1.315958</td>\n",
       "      <td>False</td>\n",
       "      <td>0</td>\n",
       "      <td>1</td>\n",
       "      <td>0</td>\n",
       "      <td>0</td>\n",
       "      <td>0</td>\n",
       "      <td>0</td>\n",
       "      <td>1</td>\n",
       "      <td>0</td>\n",
       "      <td>-1.606755</td>\n",
       "    </tr>\n",
       "    <tr>\n",
       "      <th>1</th>\n",
       "      <td>F110Q1000064</td>\n",
       "      <td>False</td>\n",
       "      <td>2.225823</td>\n",
       "      <td>False</td>\n",
       "      <td>0</td>\n",
       "      <td>1</td>\n",
       "      <td>0</td>\n",
       "      <td>0</td>\n",
       "      <td>0</td>\n",
       "      <td>0</td>\n",
       "      <td>1</td>\n",
       "      <td>0</td>\n",
       "      <td>-0.979511</td>\n",
       "    </tr>\n",
       "    <tr>\n",
       "      <th>2</th>\n",
       "      <td>F110Q1000072</td>\n",
       "      <td>False</td>\n",
       "      <td>0.451469</td>\n",
       "      <td>False</td>\n",
       "      <td>0</td>\n",
       "      <td>1</td>\n",
       "      <td>0</td>\n",
       "      <td>0</td>\n",
       "      <td>0</td>\n",
       "      <td>0</td>\n",
       "      <td>1</td>\n",
       "      <td>0</td>\n",
       "      <td>0.376283</td>\n",
       "    </tr>\n",
       "    <tr>\n",
       "      <th>3</th>\n",
       "      <td>F110Q1000080</td>\n",
       "      <td>False</td>\n",
       "      <td>-1.733071</td>\n",
       "      <td>False</td>\n",
       "      <td>0</td>\n",
       "      <td>1</td>\n",
       "      <td>0</td>\n",
       "      <td>0</td>\n",
       "      <td>0</td>\n",
       "      <td>0</td>\n",
       "      <td>1</td>\n",
       "      <td>0</td>\n",
       "      <td>0.376283</td>\n",
       "    </tr>\n",
       "    <tr>\n",
       "      <th>4</th>\n",
       "      <td>F110Q1000096</td>\n",
       "      <td>False</td>\n",
       "      <td>1.033647</td>\n",
       "      <td>False</td>\n",
       "      <td>0</td>\n",
       "      <td>1</td>\n",
       "      <td>0</td>\n",
       "      <td>0</td>\n",
       "      <td>0</td>\n",
       "      <td>0</td>\n",
       "      <td>1</td>\n",
       "      <td>0</td>\n",
       "      <td>0.056486</td>\n",
       "    </tr>\n",
       "  </tbody>\n",
       "</table>\n",
       "</div>"
      ],
      "text/plain": [
       "  Loan Sequence Number  Loan Deliquency Within Year  Credit Score  \\\n",
       "0         F110Q1000008                        False      1.315958   \n",
       "1         F110Q1000064                        False      2.225823   \n",
       "2         F110Q1000072                        False      0.451469   \n",
       "3         F110Q1000080                        False     -1.733071   \n",
       "4         F110Q1000096                        False      1.033647   \n",
       "\n",
       "  First Time Homebuyer Flag  MortgageInsuranceFlag  Units_1  Units_2  Units_3  \\\n",
       "0                     False                      0        1        0        0   \n",
       "1                     False                      0        1        0        0   \n",
       "2                     False                      0        1        0        0   \n",
       "3                     False                      0        1        0        0   \n",
       "4                     False                      0        1        0        0   \n",
       "\n",
       "   Units_4  OccupancyStatus_I  OccupancyStatus_P  OccupancyStatus_S  \\\n",
       "0        0                  0                  1                  0   \n",
       "1        0                  0                  1                  0   \n",
       "2        0                  0                  1                  0   \n",
       "3        0                  0                  1                  0   \n",
       "4        0                  0                  1                  0   \n",
       "\n",
       "   Original Combined Loan-to-Value (CLTV)  \n",
       "0                               -1.606755  \n",
       "1                               -0.979511  \n",
       "2                                0.376283  \n",
       "3                                0.376283  \n",
       "4                                0.056486  "
      ]
     },
     "execution_count": 42,
     "metadata": {},
     "output_type": "execute_result"
    }
   ],
   "source": [
    "scaler_0_1_cltv = QuantileTransformer(output_distribution='normal')\n",
    "training_dat2['Original Combined Loan-to-Value (CLTV)'] = scaler_0_1_cltv.fit_transform(training_dat[['Original Combined Loan-to-Value (CLTV)']])\n",
    "training_dat2.head()"
   ]
  },
  {
   "cell_type": "code",
   "execution_count": 43,
   "id": "73b33f6f",
   "metadata": {},
   "outputs": [],
   "source": [
    "scaler_dct['Original Combined Loan-to-Value (CLTV)'] = scaler_0_1_cltv"
   ]
  },
  {
   "cell_type": "code",
   "execution_count": 44,
   "id": "45594051",
   "metadata": {},
   "outputs": [
    {
     "name": "stderr",
     "output_type": "stream",
     "text": [
      "FutureWarning: `distplot` is a deprecated function and will be removed in a future version. Please adapt your code to use either `displot` (a figure-level function with similar flexibility) or `histplot` (an axes-level function for histograms).\n"
     ]
    },
    {
     "data": {
      "text/plain": [
       "<AxesSubplot:xlabel='Original Combined Loan-to-Value (CLTV)', ylabel='Density'>"
      ]
     },
     "execution_count": 44,
     "metadata": {},
     "output_type": "execute_result"
    },
    {
     "data": {
      "image/png": "[encoded data removed]",
      "text/plain": [
       "<Figure size 432x288 with 1 Axes>"
      ]
     },
     "metadata": {
      "needs_background": "light"
     },
     "output_type": "display_data"
    }
   ],
   "source": [
    "sns.distplot(training_dat2['Original Combined Loan-to-Value (CLTV)'])"
   ]
  },
  {
   "cell_type": "code",
   "execution_count": 45,
   "id": "ca8438a2",
   "metadata": {},
   "outputs": [
    {
     "data": {
      "text/plain": [
       "count    396337.000000\n",
       "mean         33.481499\n",
       "std          13.532473\n",
       "min           1.000000\n",
       "25%          26.000000\n",
       "50%          34.000000\n",
       "75%          41.000000\n",
       "max         999.000000\n",
       "Name: Original Debt-to-Income (DTI) Ratio, dtype: float64"
      ]
     },
     "execution_count": 45,
     "metadata": {},
     "output_type": "execute_result"
    }
   ],
   "source": [
    "# Clean Original Debt-to-Income (DTI) Ratio\n",
    "training_dat['Original Debt-to-Income (DTI) Ratio'].describe()"
   ]
  },
  {
   "cell_type": "code",
   "execution_count": 46,
   "id": "0caa9cbe",
   "metadata": {},
   "outputs": [],
   "source": [
    "tf = training_dat['Original Debt-to-Income (DTI) Ratio'] == 999\n",
    "training_dat.loc[tf, 'Original Debt-to-Income (DTI) Ratio'] = np.nan"
   ]
  },
  {
   "cell_type": "code",
   "execution_count": 47,
   "id": "11a2ad52",
   "metadata": {
    "scrolled": true
   },
   "outputs": [
    {
     "name": "stderr",
     "output_type": "stream",
     "text": [
      "FutureWarning: `distplot` is a deprecated function and will be removed in a future version. Please adapt your code to use either `displot` (a figure-level function with similar flexibility) or `histplot` (an axes-level function for histograms).\n"
     ]
    },
    {
     "data": {
      "text/plain": [
       "<AxesSubplot:xlabel='Original Debt-to-Income (DTI) Ratio', ylabel='Density'>"
      ]
     },
     "execution_count": 47,
     "metadata": {},
     "output_type": "execute_result"
    },
    {
     "data": {
      "image/png": "[encoded data removed]",
      "text/plain": [
       "<Figure size 432x288 with 1 Axes>"
      ]
     },
     "metadata": {
      "needs_background": "light"
     },
     "output_type": "display_data"
    }
   ],
   "source": [
    "sns.distplot(training_dat['Original Debt-to-Income (DTI) Ratio'])"
   ]
  },
  {
   "cell_type": "code",
   "execution_count": 48,
   "id": "a14b7ff1",
   "metadata": {},
   "outputs": [
    {
     "data": {
      "text/html": [
       "<div>\n",
       "<style scoped>\n",
       "    .dataframe tbody tr th:only-of-type {\n",
       "        vertical-align: middle;\n",
       "    }\n",
       "\n",
       "    .dataframe tbody tr th {\n",
       "        vertical-align: top;\n",
       "    }\n",
       "\n",
       "    .dataframe thead th {\n",
       "        text-align: right;\n",
       "    }\n",
       "</style>\n",
       "<table border=\"1\" class=\"dataframe\">\n",
       "  <thead>\n",
       "    <tr style=\"text-align: right;\">\n",
       "      <th></th>\n",
       "      <th>Loan Sequence Number</th>\n",
       "      <th>Loan Deliquency Within Year</th>\n",
       "      <th>Credit Score</th>\n",
       "      <th>First Time Homebuyer Flag</th>\n",
       "      <th>MortgageInsuranceFlag</th>\n",
       "      <th>Units_1</th>\n",
       "      <th>Units_2</th>\n",
       "      <th>Units_3</th>\n",
       "      <th>Units_4</th>\n",
       "      <th>OccupancyStatus_I</th>\n",
       "      <th>OccupancyStatus_P</th>\n",
       "      <th>OccupancyStatus_S</th>\n",
       "      <th>Original Combined Loan-to-Value (CLTV)</th>\n",
       "      <th>Original Debt-to-Income (DTI) Ratio</th>\n",
       "    </tr>\n",
       "  </thead>\n",
       "  <tbody>\n",
       "    <tr>\n",
       "      <th>0</th>\n",
       "      <td>F110Q1000008</td>\n",
       "      <td>False</td>\n",
       "      <td>1.315958</td>\n",
       "      <td>False</td>\n",
       "      <td>0</td>\n",
       "      <td>1</td>\n",
       "      <td>0</td>\n",
       "      <td>0</td>\n",
       "      <td>0</td>\n",
       "      <td>0</td>\n",
       "      <td>1</td>\n",
       "      <td>0</td>\n",
       "      <td>-1.606755</td>\n",
       "      <td>-1.252988</td>\n",
       "    </tr>\n",
       "    <tr>\n",
       "      <th>1</th>\n",
       "      <td>F110Q1000064</td>\n",
       "      <td>False</td>\n",
       "      <td>2.225823</td>\n",
       "      <td>False</td>\n",
       "      <td>0</td>\n",
       "      <td>1</td>\n",
       "      <td>0</td>\n",
       "      <td>0</td>\n",
       "      <td>0</td>\n",
       "      <td>0</td>\n",
       "      <td>1</td>\n",
       "      <td>0</td>\n",
       "      <td>-0.979511</td>\n",
       "      <td>-0.599937</td>\n",
       "    </tr>\n",
       "    <tr>\n",
       "      <th>2</th>\n",
       "      <td>F110Q1000072</td>\n",
       "      <td>False</td>\n",
       "      <td>0.451469</td>\n",
       "      <td>False</td>\n",
       "      <td>0</td>\n",
       "      <td>1</td>\n",
       "      <td>0</td>\n",
       "      <td>0</td>\n",
       "      <td>0</td>\n",
       "      <td>0</td>\n",
       "      <td>1</td>\n",
       "      <td>0</td>\n",
       "      <td>0.376283</td>\n",
       "      <td>0.139710</td>\n",
       "    </tr>\n",
       "    <tr>\n",
       "      <th>3</th>\n",
       "      <td>F110Q1000080</td>\n",
       "      <td>False</td>\n",
       "      <td>-1.733071</td>\n",
       "      <td>False</td>\n",
       "      <td>0</td>\n",
       "      <td>1</td>\n",
       "      <td>0</td>\n",
       "      <td>0</td>\n",
       "      <td>0</td>\n",
       "      <td>0</td>\n",
       "      <td>1</td>\n",
       "      <td>0</td>\n",
       "      <td>0.376283</td>\n",
       "      <td>-1.252988</td>\n",
       "    </tr>\n",
       "    <tr>\n",
       "      <th>4</th>\n",
       "      <td>F110Q1000096</td>\n",
       "      <td>False</td>\n",
       "      <td>1.033647</td>\n",
       "      <td>False</td>\n",
       "      <td>0</td>\n",
       "      <td>1</td>\n",
       "      <td>0</td>\n",
       "      <td>0</td>\n",
       "      <td>0</td>\n",
       "      <td>0</td>\n",
       "      <td>1</td>\n",
       "      <td>0</td>\n",
       "      <td>0.056486</td>\n",
       "      <td>-1.684464</td>\n",
       "    </tr>\n",
       "  </tbody>\n",
       "</table>\n",
       "</div>"
      ],
      "text/plain": [
       "  Loan Sequence Number  Loan Deliquency Within Year  Credit Score  \\\n",
       "0         F110Q1000008                        False      1.315958   \n",
       "1         F110Q1000064                        False      2.225823   \n",
       "2         F110Q1000072                        False      0.451469   \n",
       "3         F110Q1000080                        False     -1.733071   \n",
       "4         F110Q1000096                        False      1.033647   \n",
       "\n",
       "  First Time Homebuyer Flag  MortgageInsuranceFlag  Units_1  Units_2  Units_3  \\\n",
       "0                     False                      0        1        0        0   \n",
       "1                     False                      0        1        0        0   \n",
       "2                     False                      0        1        0        0   \n",
       "3                     False                      0        1        0        0   \n",
       "4                     False                      0        1        0        0   \n",
       "\n",
       "   Units_4  OccupancyStatus_I  OccupancyStatus_P  OccupancyStatus_S  \\\n",
       "0        0                  0                  1                  0   \n",
       "1        0                  0                  1                  0   \n",
       "2        0                  0                  1                  0   \n",
       "3        0                  0                  1                  0   \n",
       "4        0                  0                  1                  0   \n",
       "\n",
       "   Original Combined Loan-to-Value (CLTV)  Original Debt-to-Income (DTI) Ratio  \n",
       "0                               -1.606755                            -1.252988  \n",
       "1                               -0.979511                            -0.599937  \n",
       "2                                0.376283                             0.139710  \n",
       "3                                0.376283                            -1.252988  \n",
       "4                                0.056486                            -1.684464  "
      ]
     },
     "execution_count": 48,
     "metadata": {},
     "output_type": "execute_result"
    }
   ],
   "source": [
    "scaler_0_1_dti = QuantileTransformer(output_distribution='normal')\n",
    "training_dat2['Original Debt-to-Income (DTI) Ratio'] = scaler_0_1_dti.fit_transform(training_dat[['Original Debt-to-Income (DTI) Ratio']])\n",
    "training_dat2.head()"
   ]
  },
  {
   "cell_type": "code",
   "execution_count": 49,
   "id": "0993d685",
   "metadata": {},
   "outputs": [],
   "source": [
    "scaler_dct['Original Debt-to-Income (DTI) Ratio'] = scaler_0_1_dti"
   ]
  },
  {
   "cell_type": "code",
   "execution_count": 50,
   "id": "391af094",
   "metadata": {},
   "outputs": [
    {
     "name": "stderr",
     "output_type": "stream",
     "text": [
      "FutureWarning: `distplot` is a deprecated function and will be removed in a future version. Please adapt your code to use either `displot` (a figure-level function with similar flexibility) or `histplot` (an axes-level function for histograms).\n"
     ]
    },
    {
     "data": {
      "text/plain": [
       "<AxesSubplot:xlabel='Original Debt-to-Income (DTI) Ratio', ylabel='Density'>"
      ]
     },
     "execution_count": 50,
     "metadata": {},
     "output_type": "execute_result"
    },
    {
     "data": {
      "image/png": "[encoded data removed]",
      "text/plain": [
       "<Figure size 432x288 with 1 Axes>"
      ]
     },
     "metadata": {
      "needs_background": "light"
     },
     "output_type": "display_data"
    }
   ],
   "source": [
    "sns.distplot(training_dat2['Original Debt-to-Income (DTI) Ratio'])"
   ]
  },
  {
   "cell_type": "code",
   "execution_count": 51,
   "id": "08a873ba",
   "metadata": {},
   "outputs": [
    {
     "data": {
      "text/plain": [
       "count    3.963370e+05\n",
       "mean     2.225630e+05\n",
       "std      1.189133e+05\n",
       "min      1.100000e+04\n",
       "25%      1.310000e+05\n",
       "50%      2.000000e+05\n",
       "75%      2.960000e+05\n",
       "max      1.129000e+06\n",
       "Name: Original UPB, dtype: float64"
      ]
     },
     "execution_count": 51,
     "metadata": {},
     "output_type": "execute_result"
    }
   ],
   "source": [
    "# Clean Original UPB\n",
    "training_dat['Original UPB'].describe()"
   ]
  },
  {
   "cell_type": "code",
   "execution_count": 52,
   "id": "a0a4baf8",
   "metadata": {},
   "outputs": [
    {
     "name": "stderr",
     "output_type": "stream",
     "text": [
      "FutureWarning: `distplot` is a deprecated function and will be removed in a future version. Please adapt your code to use either `displot` (a figure-level function with similar flexibility) or `histplot` (an axes-level function for histograms).\n"
     ]
    },
    {
     "data": {
      "text/plain": [
       "<AxesSubplot:xlabel='Original UPB', ylabel='Density'>"
      ]
     },
     "execution_count": 52,
     "metadata": {},
     "output_type": "execute_result"
    },
    {
     "data": {
      "image/png": "[encoded data removed]",
      "text/plain": [
       "<Figure size 432x288 with 1 Axes>"
      ]
     },
     "metadata": {
      "needs_background": "light"
     },
     "output_type": "display_data"
    }
   ],
   "source": [
    "sns.distplot(training_dat['Original UPB'])"
   ]
  },
  {
   "cell_type": "code",
   "execution_count": 53,
   "id": "95a3974a",
   "metadata": {},
   "outputs": [
    {
     "data": {
      "text/html": [
       "<div>\n",
       "<style scoped>\n",
       "    .dataframe tbody tr th:only-of-type {\n",
       "        vertical-align: middle;\n",
       "    }\n",
       "\n",
       "    .dataframe tbody tr th {\n",
       "        vertical-align: top;\n",
       "    }\n",
       "\n",
       "    .dataframe thead th {\n",
       "        text-align: right;\n",
       "    }\n",
       "</style>\n",
       "<table border=\"1\" class=\"dataframe\">\n",
       "  <thead>\n",
       "    <tr style=\"text-align: right;\">\n",
       "      <th></th>\n",
       "      <th>Loan Sequence Number</th>\n",
       "      <th>Loan Deliquency Within Year</th>\n",
       "      <th>Credit Score</th>\n",
       "      <th>First Time Homebuyer Flag</th>\n",
       "      <th>MortgageInsuranceFlag</th>\n",
       "      <th>Units_1</th>\n",
       "      <th>Units_2</th>\n",
       "      <th>Units_3</th>\n",
       "      <th>Units_4</th>\n",
       "      <th>OccupancyStatus_I</th>\n",
       "      <th>OccupancyStatus_P</th>\n",
       "      <th>OccupancyStatus_S</th>\n",
       "      <th>Original Combined Loan-to-Value (CLTV)</th>\n",
       "      <th>Original Debt-to-Income (DTI) Ratio</th>\n",
       "      <th>Original UPB</th>\n",
       "    </tr>\n",
       "  </thead>\n",
       "  <tbody>\n",
       "    <tr>\n",
       "      <th>0</th>\n",
       "      <td>F110Q1000008</td>\n",
       "      <td>False</td>\n",
       "      <td>1.315958</td>\n",
       "      <td>False</td>\n",
       "      <td>0</td>\n",
       "      <td>1</td>\n",
       "      <td>0</td>\n",
       "      <td>0</td>\n",
       "      <td>0</td>\n",
       "      <td>0</td>\n",
       "      <td>1</td>\n",
       "      <td>0</td>\n",
       "      <td>-1.606755</td>\n",
       "      <td>-1.252988</td>\n",
       "      <td>-0.605955</td>\n",
       "    </tr>\n",
       "    <tr>\n",
       "      <th>1</th>\n",
       "      <td>F110Q1000064</td>\n",
       "      <td>False</td>\n",
       "      <td>2.225823</td>\n",
       "      <td>False</td>\n",
       "      <td>0</td>\n",
       "      <td>1</td>\n",
       "      <td>0</td>\n",
       "      <td>0</td>\n",
       "      <td>0</td>\n",
       "      <td>0</td>\n",
       "      <td>1</td>\n",
       "      <td>0</td>\n",
       "      <td>-0.979511</td>\n",
       "      <td>-0.599937</td>\n",
       "      <td>-1.446104</td>\n",
       "    </tr>\n",
       "    <tr>\n",
       "      <th>2</th>\n",
       "      <td>F110Q1000072</td>\n",
       "      <td>False</td>\n",
       "      <td>0.451469</td>\n",
       "      <td>False</td>\n",
       "      <td>0</td>\n",
       "      <td>1</td>\n",
       "      <td>0</td>\n",
       "      <td>0</td>\n",
       "      <td>0</td>\n",
       "      <td>0</td>\n",
       "      <td>1</td>\n",
       "      <td>0</td>\n",
       "      <td>0.376283</td>\n",
       "      <td>0.139710</td>\n",
       "      <td>-0.350817</td>\n",
       "    </tr>\n",
       "    <tr>\n",
       "      <th>3</th>\n",
       "      <td>F110Q1000080</td>\n",
       "      <td>False</td>\n",
       "      <td>-1.733071</td>\n",
       "      <td>False</td>\n",
       "      <td>0</td>\n",
       "      <td>1</td>\n",
       "      <td>0</td>\n",
       "      <td>0</td>\n",
       "      <td>0</td>\n",
       "      <td>0</td>\n",
       "      <td>1</td>\n",
       "      <td>0</td>\n",
       "      <td>0.376283</td>\n",
       "      <td>-1.252988</td>\n",
       "      <td>1.545927</td>\n",
       "    </tr>\n",
       "    <tr>\n",
       "      <th>4</th>\n",
       "      <td>F110Q1000096</td>\n",
       "      <td>False</td>\n",
       "      <td>1.033647</td>\n",
       "      <td>False</td>\n",
       "      <td>0</td>\n",
       "      <td>1</td>\n",
       "      <td>0</td>\n",
       "      <td>0</td>\n",
       "      <td>0</td>\n",
       "      <td>0</td>\n",
       "      <td>1</td>\n",
       "      <td>0</td>\n",
       "      <td>0.056486</td>\n",
       "      <td>-1.684464</td>\n",
       "      <td>-1.550085</td>\n",
       "    </tr>\n",
       "  </tbody>\n",
       "</table>\n",
       "</div>"
      ],
      "text/plain": [
       "  Loan Sequence Number  Loan Deliquency Within Year  Credit Score  \\\n",
       "0         F110Q1000008                        False      1.315958   \n",
       "1         F110Q1000064                        False      2.225823   \n",
       "2         F110Q1000072                        False      0.451469   \n",
       "3         F110Q1000080                        False     -1.733071   \n",
       "4         F110Q1000096                        False      1.033647   \n",
       "\n",
       "  First Time Homebuyer Flag  MortgageInsuranceFlag  Units_1  Units_2  Units_3  \\\n",
       "0                     False                      0        1        0        0   \n",
       "1                     False                      0        1        0        0   \n",
       "2                     False                      0        1        0        0   \n",
       "3                     False                      0        1        0        0   \n",
       "4                     False                      0        1        0        0   \n",
       "\n",
       "   Units_4  OccupancyStatus_I  OccupancyStatus_P  OccupancyStatus_S  \\\n",
       "0        0                  0                  1                  0   \n",
       "1        0                  0                  1                  0   \n",
       "2        0                  0                  1                  0   \n",
       "3        0                  0                  1                  0   \n",
       "4        0                  0                  1                  0   \n",
       "\n",
       "   Original Combined Loan-to-Value (CLTV)  \\\n",
       "0                               -1.606755   \n",
       "1                               -0.979511   \n",
       "2                                0.376283   \n",
       "3                                0.376283   \n",
       "4                                0.056486   \n",
       "\n",
       "   Original Debt-to-Income (DTI) Ratio  Original UPB  \n",
       "0                            -1.252988     -0.605955  \n",
       "1                            -0.599937     -1.446104  \n",
       "2                             0.139710     -0.350817  \n",
       "3                            -1.252988      1.545927  \n",
       "4                            -1.684464     -1.550085  "
      ]
     },
     "execution_count": 53,
     "metadata": {},
     "output_type": "execute_result"
    }
   ],
   "source": [
    "scaler_0_1_upb = QuantileTransformer(output_distribution='normal')\n",
    "training_dat2['Original UPB'] = scaler_0_1_upb.fit_transform(training_dat[['Original UPB']])\n",
    "training_dat2.head()"
   ]
  },
  {
   "cell_type": "code",
   "execution_count": 56,
   "id": "1c7cd1ed",
   "metadata": {},
   "outputs": [
    {
     "name": "stderr",
     "output_type": "stream",
     "text": [
      "FutureWarning: `distplot` is a deprecated function and will be removed in a future version. Please adapt your code to use either `displot` (a figure-level function with similar flexibility) or `histplot` (an axes-level function for histograms).\n"
     ]
    },
    {
     "data": {
      "text/plain": [
       "<AxesSubplot:xlabel='Original UPB', ylabel='Density'>"
      ]
     },
     "execution_count": 56,
     "metadata": {},
     "output_type": "execute_result"
    },
    {
     "data": {
      "image/png": "[encoded data removed]",
      "text/plain": [
       "<Figure size 432x288 with 1 Axes>"
      ]
     },
     "metadata": {
      "needs_background": "light"
     },
     "output_type": "display_data"
    }
   ],
   "source": [
    "sns.distplot(training_dat2['Original UPB'])"
   ]
  },
  {
   "cell_type": "code",
   "execution_count": 57,
   "id": "d840855e",
   "metadata": {},
   "outputs": [],
   "source": [
    "scaler_dct['Original UPB'] = scaler_0_1_upb"
   ]
  },
  {
   "cell_type": "code",
   "execution_count": 58,
   "id": "f02da341",
   "metadata": {},
   "outputs": [
    {
     "data": {
      "text/plain": [
       "count    396337.000000\n",
       "mean         72.258210\n",
       "std          17.734249\n",
       "min           6.000000\n",
       "25%          63.000000\n",
       "50%          77.000000\n",
       "75%          80.000000\n",
       "max         999.000000\n",
       "Name: Original Loan-to-Value (LTV), dtype: float64"
      ]
     },
     "execution_count": 58,
     "metadata": {},
     "output_type": "execute_result"
    }
   ],
   "source": [
    "# Clean Original Loan-to-Value (LTV)\n",
    "training_dat['Original Loan-to-Value (LTV)'].describe()"
   ]
  },
  {
   "cell_type": "code",
   "execution_count": 59,
   "id": "d86c3829",
   "metadata": {},
   "outputs": [],
   "source": [
    "tf = training_dat['Original Loan-to-Value (LTV)'] == 999\n",
    "training_dat.loc[tf, 'Original Loan-to-Value (LTV)'] = np.nan"
   ]
  },
  {
   "cell_type": "code",
   "execution_count": 60,
   "id": "c53fddca",
   "metadata": {
    "scrolled": true
   },
   "outputs": [
    {
     "name": "stderr",
     "output_type": "stream",
     "text": [
      "FutureWarning: `distplot` is a deprecated function and will be removed in a future version. Please adapt your code to use either `displot` (a figure-level function with similar flexibility) or `histplot` (an axes-level function for histograms).\n"
     ]
    },
    {
     "data": {
      "text/plain": [
       "<AxesSubplot:xlabel='Original Loan-to-Value (LTV)', ylabel='Density'>"
      ]
     },
     "execution_count": 60,
     "metadata": {},
     "output_type": "execute_result"
    },
    {
     "data": {
      "image/png": "[encoded data removed]",
      "text/plain": [
       "<Figure size 432x288 with 1 Axes>"
      ]
     },
     "metadata": {
      "needs_background": "light"
     },
     "output_type": "display_data"
    }
   ],
   "source": [
    "sns.distplot(training_dat['Original Loan-to-Value (LTV)'])"
   ]
  },
  {
   "cell_type": "code",
   "execution_count": 61,
   "id": "acea7073",
   "metadata": {},
   "outputs": [
    {
     "data": {
      "text/html": [
       "<div>\n",
       "<style scoped>\n",
       "    .dataframe tbody tr th:only-of-type {\n",
       "        vertical-align: middle;\n",
       "    }\n",
       "\n",
       "    .dataframe tbody tr th {\n",
       "        vertical-align: top;\n",
       "    }\n",
       "\n",
       "    .dataframe thead th {\n",
       "        text-align: right;\n",
       "    }\n",
       "</style>\n",
       "<table border=\"1\" class=\"dataframe\">\n",
       "  <thead>\n",
       "    <tr style=\"text-align: right;\">\n",
       "      <th></th>\n",
       "      <th>Loan Sequence Number</th>\n",
       "      <th>Loan Deliquency Within Year</th>\n",
       "      <th>Credit Score</th>\n",
       "      <th>First Time Homebuyer Flag</th>\n",
       "      <th>MortgageInsuranceFlag</th>\n",
       "      <th>Units_1</th>\n",
       "      <th>Units_2</th>\n",
       "      <th>Units_3</th>\n",
       "      <th>Units_4</th>\n",
       "      <th>OccupancyStatus_I</th>\n",
       "      <th>OccupancyStatus_P</th>\n",
       "      <th>OccupancyStatus_S</th>\n",
       "      <th>Original Combined Loan-to-Value (CLTV)</th>\n",
       "      <th>Original Debt-to-Income (DTI) Ratio</th>\n",
       "      <th>Original UPB</th>\n",
       "      <th>Original Loan-to-Value (LTV)</th>\n",
       "    </tr>\n",
       "  </thead>\n",
       "  <tbody>\n",
       "    <tr>\n",
       "      <th>0</th>\n",
       "      <td>F110Q1000008</td>\n",
       "      <td>False</td>\n",
       "      <td>1.315958</td>\n",
       "      <td>False</td>\n",
       "      <td>0</td>\n",
       "      <td>1</td>\n",
       "      <td>0</td>\n",
       "      <td>0</td>\n",
       "      <td>0</td>\n",
       "      <td>0</td>\n",
       "      <td>1</td>\n",
       "      <td>0</td>\n",
       "      <td>-1.606755</td>\n",
       "      <td>-1.252988</td>\n",
       "      <td>-0.605955</td>\n",
       "      <td>-1.588771</td>\n",
       "    </tr>\n",
       "    <tr>\n",
       "      <th>1</th>\n",
       "      <td>F110Q1000064</td>\n",
       "      <td>False</td>\n",
       "      <td>2.225823</td>\n",
       "      <td>False</td>\n",
       "      <td>0</td>\n",
       "      <td>1</td>\n",
       "      <td>0</td>\n",
       "      <td>0</td>\n",
       "      <td>0</td>\n",
       "      <td>0</td>\n",
       "      <td>1</td>\n",
       "      <td>0</td>\n",
       "      <td>-0.979511</td>\n",
       "      <td>-0.599937</td>\n",
       "      <td>-1.446104</td>\n",
       "      <td>-0.949547</td>\n",
       "    </tr>\n",
       "    <tr>\n",
       "      <th>2</th>\n",
       "      <td>F110Q1000072</td>\n",
       "      <td>False</td>\n",
       "      <td>0.451469</td>\n",
       "      <td>False</td>\n",
       "      <td>0</td>\n",
       "      <td>1</td>\n",
       "      <td>0</td>\n",
       "      <td>0</td>\n",
       "      <td>0</td>\n",
       "      <td>0</td>\n",
       "      <td>1</td>\n",
       "      <td>0</td>\n",
       "      <td>0.376283</td>\n",
       "      <td>0.139710</td>\n",
       "      <td>-0.350817</td>\n",
       "      <td>0.421111</td>\n",
       "    </tr>\n",
       "    <tr>\n",
       "      <th>3</th>\n",
       "      <td>F110Q1000080</td>\n",
       "      <td>False</td>\n",
       "      <td>-1.733071</td>\n",
       "      <td>False</td>\n",
       "      <td>0</td>\n",
       "      <td>1</td>\n",
       "      <td>0</td>\n",
       "      <td>0</td>\n",
       "      <td>0</td>\n",
       "      <td>0</td>\n",
       "      <td>1</td>\n",
       "      <td>0</td>\n",
       "      <td>0.376283</td>\n",
       "      <td>-1.252988</td>\n",
       "      <td>1.545927</td>\n",
       "      <td>-1.057485</td>\n",
       "    </tr>\n",
       "    <tr>\n",
       "      <th>4</th>\n",
       "      <td>F110Q1000096</td>\n",
       "      <td>False</td>\n",
       "      <td>1.033647</td>\n",
       "      <td>False</td>\n",
       "      <td>0</td>\n",
       "      <td>1</td>\n",
       "      <td>0</td>\n",
       "      <td>0</td>\n",
       "      <td>0</td>\n",
       "      <td>0</td>\n",
       "      <td>1</td>\n",
       "      <td>0</td>\n",
       "      <td>0.056486</td>\n",
       "      <td>-1.684464</td>\n",
       "      <td>-1.550085</td>\n",
       "      <td>0.095492</td>\n",
       "    </tr>\n",
       "  </tbody>\n",
       "</table>\n",
       "</div>"
      ],
      "text/plain": [
       "  Loan Sequence Number  Loan Deliquency Within Year  Credit Score  \\\n",
       "0         F110Q1000008                        False      1.315958   \n",
       "1         F110Q1000064                        False      2.225823   \n",
       "2         F110Q1000072                        False      0.451469   \n",
       "3         F110Q1000080                        False     -1.733071   \n",
       "4         F110Q1000096                        False      1.033647   \n",
       "\n",
       "  First Time Homebuyer Flag  MortgageInsuranceFlag  Units_1  Units_2  Units_3  \\\n",
       "0                     False                      0        1        0        0   \n",
       "1                     False                      0        1        0        0   \n",
       "2                     False                      0        1        0        0   \n",
       "3                     False                      0        1        0        0   \n",
       "4                     False                      0        1        0        0   \n",
       "\n",
       "   Units_4  OccupancyStatus_I  OccupancyStatus_P  OccupancyStatus_S  \\\n",
       "0        0                  0                  1                  0   \n",
       "1        0                  0                  1                  0   \n",
       "2        0                  0                  1                  0   \n",
       "3        0                  0                  1                  0   \n",
       "4        0                  0                  1                  0   \n",
       "\n",
       "   Original Combined Loan-to-Value (CLTV)  \\\n",
       "0                               -1.606755   \n",
       "1                               -0.979511   \n",
       "2                                0.376283   \n",
       "3                                0.376283   \n",
       "4                                0.056486   \n",
       "\n",
       "   Original Debt-to-Income (DTI) Ratio  Original UPB  \\\n",
       "0                            -1.252988     -0.605955   \n",
       "1                            -0.599937     -1.446104   \n",
       "2                             0.139710     -0.350817   \n",
       "3                            -1.252988      1.545927   \n",
       "4                            -1.684464     -1.550085   \n",
       "\n",
       "   Original Loan-to-Value (LTV)  \n",
       "0                     -1.588771  \n",
       "1                     -0.949547  \n",
       "2                      0.421111  \n",
       "3                     -1.057485  \n",
       "4                      0.095492  "
      ]
     },
     "execution_count": 61,
     "metadata": {},
     "output_type": "execute_result"
    }
   ],
   "source": [
    "scaler_0_1_ltv = QuantileTransformer(output_distribution='normal')\n",
    "training_dat2['Original Loan-to-Value (LTV)'] = scaler_0_1_ltv.fit_transform(training_dat[['Original Loan-to-Value (LTV)']])\n",
    "training_dat2.head()"
   ]
  },
  {
   "cell_type": "code",
   "execution_count": 62,
   "id": "655cc101",
   "metadata": {},
   "outputs": [],
   "source": [
    "scaler_dct['Original Loan-to-Value (LTV)'] = scaler_0_1_ltv"
   ]
  },
  {
   "cell_type": "code",
   "execution_count": 63,
   "id": "9d55e540",
   "metadata": {
    "scrolled": true
   },
   "outputs": [
    {
     "name": "stderr",
     "output_type": "stream",
     "text": [
      "FutureWarning: `distplot` is a deprecated function and will be removed in a future version. Please adapt your code to use either `displot` (a figure-level function with similar flexibility) or `histplot` (an axes-level function for histograms).\n"
     ]
    },
    {
     "data": {
      "text/plain": [
       "<AxesSubplot:xlabel='Original Loan-to-Value (LTV)', ylabel='Density'>"
      ]
     },
     "execution_count": 63,
     "metadata": {},
     "output_type": "execute_result"
    },
    {
     "data": {
      "image/png": "[encoded data removed]",
      "text/plain": [
       "<Figure size 432x288 with 1 Axes>"
      ]
     },
     "metadata": {
      "needs_background": "light"
     },
     "output_type": "display_data"
    }
   ],
   "source": [
    "sns.distplot(training_dat2['Original Loan-to-Value (LTV)'])"
   ]
  },
  {
   "cell_type": "code",
   "execution_count": 64,
   "id": "57aba955",
   "metadata": {},
   "outputs": [
    {
     "data": {
      "text/plain": [
       "count    396337.000000\n",
       "mean          4.172227\n",
       "std           0.607312\n",
       "min           2.250000\n",
       "25%           3.750000\n",
       "50%           4.125000\n",
       "75%           4.625000\n",
       "max           6.750000\n",
       "Name: Original Interest Rate, dtype: float64"
      ]
     },
     "execution_count": 64,
     "metadata": {},
     "output_type": "execute_result"
    }
   ],
   "source": [
    "# Clean Original Interest Rate\n",
    "training_dat['Original Interest Rate'].describe()"
   ]
  },
  {
   "cell_type": "code",
   "execution_count": 65,
   "id": "cde87788",
   "metadata": {
    "scrolled": true
   },
   "outputs": [
    {
     "name": "stderr",
     "output_type": "stream",
     "text": [
      "FutureWarning: `distplot` is a deprecated function and will be removed in a future version. Please adapt your code to use either `displot` (a figure-level function with similar flexibility) or `histplot` (an axes-level function for histograms).\n"
     ]
    },
    {
     "data": {
      "text/plain": [
       "<AxesSubplot:xlabel='Original Interest Rate', ylabel='Density'>"
      ]
     },
     "execution_count": 65,
     "metadata": {},
     "output_type": "execute_result"
    },
    {
     "data": {
      "image/png": "[encoded data removed]",
      "text/plain": [
       "<Figure size 432x288 with 1 Axes>"
      ]
     },
     "metadata": {
      "needs_background": "light"
     },
     "output_type": "display_data"
    }
   ],
   "source": [
    "sns.distplot(training_dat['Original Interest Rate'])"
   ]
  },
  {
   "cell_type": "code",
   "execution_count": 66,
   "id": "b92ab5de",
   "metadata": {},
   "outputs": [
    {
     "data": {
      "text/html": [
       "<div>\n",
       "<style scoped>\n",
       "    .dataframe tbody tr th:only-of-type {\n",
       "        vertical-align: middle;\n",
       "    }\n",
       "\n",
       "    .dataframe tbody tr th {\n",
       "        vertical-align: top;\n",
       "    }\n",
       "\n",
       "    .dataframe thead th {\n",
       "        text-align: right;\n",
       "    }\n",
       "</style>\n",
       "<table border=\"1\" class=\"dataframe\">\n",
       "  <thead>\n",
       "    <tr style=\"text-align: right;\">\n",
       "      <th></th>\n",
       "      <th>Loan Sequence Number</th>\n",
       "      <th>Loan Deliquency Within Year</th>\n",
       "      <th>Credit Score</th>\n",
       "      <th>First Time Homebuyer Flag</th>\n",
       "      <th>MortgageInsuranceFlag</th>\n",
       "      <th>Units_1</th>\n",
       "      <th>Units_2</th>\n",
       "      <th>Units_3</th>\n",
       "      <th>Units_4</th>\n",
       "      <th>OccupancyStatus_I</th>\n",
       "      <th>OccupancyStatus_P</th>\n",
       "      <th>OccupancyStatus_S</th>\n",
       "      <th>Original Combined Loan-to-Value (CLTV)</th>\n",
       "      <th>Original Debt-to-Income (DTI) Ratio</th>\n",
       "      <th>Original UPB</th>\n",
       "      <th>Original Loan-to-Value (LTV)</th>\n",
       "      <th>Original Interest Rate</th>\n",
       "    </tr>\n",
       "  </thead>\n",
       "  <tbody>\n",
       "    <tr>\n",
       "      <th>0</th>\n",
       "      <td>F110Q1000008</td>\n",
       "      <td>False</td>\n",
       "      <td>1.315958</td>\n",
       "      <td>False</td>\n",
       "      <td>0</td>\n",
       "      <td>1</td>\n",
       "      <td>0</td>\n",
       "      <td>0</td>\n",
       "      <td>0</td>\n",
       "      <td>0</td>\n",
       "      <td>1</td>\n",
       "      <td>0</td>\n",
       "      <td>-1.606755</td>\n",
       "      <td>-1.252988</td>\n",
       "      <td>-0.605955</td>\n",
       "      <td>-1.588771</td>\n",
       "      <td>1.161976</td>\n",
       "    </tr>\n",
       "    <tr>\n",
       "      <th>1</th>\n",
       "      <td>F110Q1000064</td>\n",
       "      <td>False</td>\n",
       "      <td>2.225823</td>\n",
       "      <td>False</td>\n",
       "      <td>0</td>\n",
       "      <td>1</td>\n",
       "      <td>0</td>\n",
       "      <td>0</td>\n",
       "      <td>0</td>\n",
       "      <td>0</td>\n",
       "      <td>1</td>\n",
       "      <td>0</td>\n",
       "      <td>-0.979511</td>\n",
       "      <td>-0.599937</td>\n",
       "      <td>-1.446104</td>\n",
       "      <td>-0.949547</td>\n",
       "      <td>1.786156</td>\n",
       "    </tr>\n",
       "    <tr>\n",
       "      <th>2</th>\n",
       "      <td>F110Q1000072</td>\n",
       "      <td>False</td>\n",
       "      <td>0.451469</td>\n",
       "      <td>False</td>\n",
       "      <td>0</td>\n",
       "      <td>1</td>\n",
       "      <td>0</td>\n",
       "      <td>0</td>\n",
       "      <td>0</td>\n",
       "      <td>0</td>\n",
       "      <td>1</td>\n",
       "      <td>0</td>\n",
       "      <td>0.376283</td>\n",
       "      <td>0.139710</td>\n",
       "      <td>-0.350817</td>\n",
       "      <td>0.421111</td>\n",
       "      <td>1.418119</td>\n",
       "    </tr>\n",
       "    <tr>\n",
       "      <th>3</th>\n",
       "      <td>F110Q1000080</td>\n",
       "      <td>False</td>\n",
       "      <td>-1.733071</td>\n",
       "      <td>False</td>\n",
       "      <td>0</td>\n",
       "      <td>1</td>\n",
       "      <td>0</td>\n",
       "      <td>0</td>\n",
       "      <td>0</td>\n",
       "      <td>0</td>\n",
       "      <td>1</td>\n",
       "      <td>0</td>\n",
       "      <td>0.376283</td>\n",
       "      <td>-1.252988</td>\n",
       "      <td>1.545927</td>\n",
       "      <td>-1.057485</td>\n",
       "      <td>1.786156</td>\n",
       "    </tr>\n",
       "    <tr>\n",
       "      <th>4</th>\n",
       "      <td>F110Q1000096</td>\n",
       "      <td>False</td>\n",
       "      <td>1.033647</td>\n",
       "      <td>False</td>\n",
       "      <td>0</td>\n",
       "      <td>1</td>\n",
       "      <td>0</td>\n",
       "      <td>0</td>\n",
       "      <td>0</td>\n",
       "      <td>0</td>\n",
       "      <td>1</td>\n",
       "      <td>0</td>\n",
       "      <td>0.056486</td>\n",
       "      <td>-1.684464</td>\n",
       "      <td>-1.550085</td>\n",
       "      <td>0.095492</td>\n",
       "      <td>1.418119</td>\n",
       "    </tr>\n",
       "  </tbody>\n",
       "</table>\n",
       "</div>"
      ],
      "text/plain": [
       "  Loan Sequence Number  Loan Deliquency Within Year  Credit Score  \\\n",
       "0         F110Q1000008                        False      1.315958   \n",
       "1         F110Q1000064                        False      2.225823   \n",
       "2         F110Q1000072                        False      0.451469   \n",
       "3         F110Q1000080                        False     -1.733071   \n",
       "4         F110Q1000096                        False      1.033647   \n",
       "\n",
       "  First Time Homebuyer Flag  MortgageInsuranceFlag  Units_1  Units_2  Units_3  \\\n",
       "0                     False                      0        1        0        0   \n",
       "1                     False                      0        1        0        0   \n",
       "2                     False                      0        1        0        0   \n",
       "3                     False                      0        1        0        0   \n",
       "4                     False                      0        1        0        0   \n",
       "\n",
       "   Units_4  OccupancyStatus_I  OccupancyStatus_P  OccupancyStatus_S  \\\n",
       "0        0                  0                  1                  0   \n",
       "1        0                  0                  1                  0   \n",
       "2        0                  0                  1                  0   \n",
       "3        0                  0                  1                  0   \n",
       "4        0                  0                  1                  0   \n",
       "\n",
       "   Original Combined Loan-to-Value (CLTV)  \\\n",
       "0                               -1.606755   \n",
       "1                               -0.979511   \n",
       "2                                0.376283   \n",
       "3                                0.376283   \n",
       "4                                0.056486   \n",
       "\n",
       "   Original Debt-to-Income (DTI) Ratio  Original UPB  \\\n",
       "0                            -1.252988     -0.605955   \n",
       "1                            -0.599937     -1.446104   \n",
       "2                             0.139710     -0.350817   \n",
       "3                            -1.252988      1.545927   \n",
       "4                            -1.684464     -1.550085   \n",
       "\n",
       "   Original Loan-to-Value (LTV)  Original Interest Rate  \n",
       "0                     -1.588771                1.161976  \n",
       "1                     -0.949547                1.786156  \n",
       "2                      0.421111                1.418119  \n",
       "3                     -1.057485                1.786156  \n",
       "4                      0.095492                1.418119  "
      ]
     },
     "execution_count": 66,
     "metadata": {},
     "output_type": "execute_result"
    }
   ],
   "source": [
    "scaler_0_1_intrestrate = QuantileTransformer(output_distribution='normal')\n",
    "training_dat2['Original Interest Rate'] = scaler_0_1_intrestrate.fit_transform(training_dat[['Original Interest Rate']])\n",
    "training_dat2.head()"
   ]
  },
  {
   "cell_type": "code",
   "execution_count": 67,
   "id": "934d876c",
   "metadata": {},
   "outputs": [],
   "source": [
    "scaler_dct['Original Interest Rate'] = scaler_0_1_intrestrate"
   ]
  },
  {
   "cell_type": "code",
   "execution_count": 68,
   "id": "e0eeb02e",
   "metadata": {
    "scrolled": true
   },
   "outputs": [
    {
     "name": "stderr",
     "output_type": "stream",
     "text": [
      "FutureWarning: `distplot` is a deprecated function and will be removed in a future version. Please adapt your code to use either `displot` (a figure-level function with similar flexibility) or `histplot` (an axes-level function for histograms).\n"
     ]
    },
    {
     "data": {
      "text/plain": [
       "<AxesSubplot:xlabel='Original Interest Rate', ylabel='Density'>"
      ]
     },
     "execution_count": 68,
     "metadata": {},
     "output_type": "execute_result"
    },
    {
     "data": {
      "image/png": "[encoded data removed]",
      "text/plain": [
       "<Figure size 432x288 with 1 Axes>"
      ]
     },
     "metadata": {
      "needs_background": "light"
     },
     "output_type": "display_data"
    }
   ],
   "source": [
    "sns.distplot(training_dat2['Original Interest Rate'])"
   ]
  },
  {
   "cell_type": "code",
   "execution_count": 69,
   "id": "d47c2bc5",
   "metadata": {},
   "outputs": [
    {
     "name": "stderr",
     "output_type": "stream",
     "text": [
      "UserWarning: value_counts defaulting to pandas implementation.\n"
     ]
    },
    {
     "data": {
      "text/plain": [
       "R    227989\n",
       "C    125527\n",
       "B     42821\n",
       "Name: Channel, dtype: int64"
      ]
     },
     "execution_count": 69,
     "metadata": {},
     "output_type": "execute_result"
    }
   ],
   "source": [
    "# Transform Channel\n",
    "training_dat['Channel'].value_counts()"
   ]
  },
  {
   "cell_type": "code",
   "execution_count": 70,
   "id": "2316d190",
   "metadata": {},
   "outputs": [
    {
     "name": "stderr",
     "output_type": "stream",
     "text": [
      "UserWarning: `get_dummies` on non-DataFrame defaulting to pandas implementation.\n",
      "UserWarning: Distributing <class 'pandas.core.frame.DataFrame'> object. This may take some time.\n"
     ]
    },
    {
     "data": {
      "text/html": [
       "<div>\n",
       "<style scoped>\n",
       "    .dataframe tbody tr th:only-of-type {\n",
       "        vertical-align: middle;\n",
       "    }\n",
       "\n",
       "    .dataframe tbody tr th {\n",
       "        vertical-align: top;\n",
       "    }\n",
       "\n",
       "    .dataframe thead th {\n",
       "        text-align: right;\n",
       "    }\n",
       "</style>\n",
       "<table border=\"1\" class=\"dataframe\">\n",
       "  <thead>\n",
       "    <tr style=\"text-align: right;\">\n",
       "      <th></th>\n",
       "      <th>Loan Sequence Number</th>\n",
       "      <th>Loan Deliquency Within Year</th>\n",
       "      <th>Credit Score</th>\n",
       "      <th>First Time Homebuyer Flag</th>\n",
       "      <th>MortgageInsuranceFlag</th>\n",
       "      <th>Units_1</th>\n",
       "      <th>Units_2</th>\n",
       "      <th>Units_3</th>\n",
       "      <th>Units_4</th>\n",
       "      <th>OccupancyStatus_I</th>\n",
       "      <th>OccupancyStatus_P</th>\n",
       "      <th>OccupancyStatus_S</th>\n",
       "      <th>Original Combined Loan-to-Value (CLTV)</th>\n",
       "      <th>Original Debt-to-Income (DTI) Ratio</th>\n",
       "      <th>Original UPB</th>\n",
       "      <th>Original Loan-to-Value (LTV)</th>\n",
       "      <th>Original Interest Rate</th>\n",
       "      <th>Channel_B</th>\n",
       "      <th>Channel_C</th>\n",
       "      <th>Channel_R</th>\n",
       "    </tr>\n",
       "  </thead>\n",
       "  <tbody>\n",
       "    <tr>\n",
       "      <th>0</th>\n",
       "      <td>F110Q1000008</td>\n",
       "      <td>False</td>\n",
       "      <td>1.315958</td>\n",
       "      <td>False</td>\n",
       "      <td>0</td>\n",
       "      <td>1</td>\n",
       "      <td>0</td>\n",
       "      <td>0</td>\n",
       "      <td>0</td>\n",
       "      <td>0</td>\n",
       "      <td>1</td>\n",
       "      <td>0</td>\n",
       "      <td>-1.606755</td>\n",
       "      <td>-1.252988</td>\n",
       "      <td>-0.605955</td>\n",
       "      <td>-1.588771</td>\n",
       "      <td>1.161976</td>\n",
       "      <td>0</td>\n",
       "      <td>0</td>\n",
       "      <td>1</td>\n",
       "    </tr>\n",
       "    <tr>\n",
       "      <th>1</th>\n",
       "      <td>F110Q1000064</td>\n",
       "      <td>False</td>\n",
       "      <td>2.225823</td>\n",
       "      <td>False</td>\n",
       "      <td>0</td>\n",
       "      <td>1</td>\n",
       "      <td>0</td>\n",
       "      <td>0</td>\n",
       "      <td>0</td>\n",
       "      <td>0</td>\n",
       "      <td>1</td>\n",
       "      <td>0</td>\n",
       "      <td>-0.979511</td>\n",
       "      <td>-0.599937</td>\n",
       "      <td>-1.446104</td>\n",
       "      <td>-0.949547</td>\n",
       "      <td>1.786156</td>\n",
       "      <td>0</td>\n",
       "      <td>0</td>\n",
       "      <td>1</td>\n",
       "    </tr>\n",
       "    <tr>\n",
       "      <th>2</th>\n",
       "      <td>F110Q1000072</td>\n",
       "      <td>False</td>\n",
       "      <td>0.451469</td>\n",
       "      <td>False</td>\n",
       "      <td>0</td>\n",
       "      <td>1</td>\n",
       "      <td>0</td>\n",
       "      <td>0</td>\n",
       "      <td>0</td>\n",
       "      <td>0</td>\n",
       "      <td>1</td>\n",
       "      <td>0</td>\n",
       "      <td>0.376283</td>\n",
       "      <td>0.139710</td>\n",
       "      <td>-0.350817</td>\n",
       "      <td>0.421111</td>\n",
       "      <td>1.418119</td>\n",
       "      <td>0</td>\n",
       "      <td>0</td>\n",
       "      <td>1</td>\n",
       "    </tr>\n",
       "    <tr>\n",
       "      <th>3</th>\n",
       "      <td>F110Q1000080</td>\n",
       "      <td>False</td>\n",
       "      <td>-1.733071</td>\n",
       "      <td>False</td>\n",
       "      <td>0</td>\n",
       "      <td>1</td>\n",
       "      <td>0</td>\n",
       "      <td>0</td>\n",
       "      <td>0</td>\n",
       "      <td>0</td>\n",
       "      <td>1</td>\n",
       "      <td>0</td>\n",
       "      <td>0.376283</td>\n",
       "      <td>-1.252988</td>\n",
       "      <td>1.545927</td>\n",
       "      <td>-1.057485</td>\n",
       "      <td>1.786156</td>\n",
       "      <td>0</td>\n",
       "      <td>0</td>\n",
       "      <td>1</td>\n",
       "    </tr>\n",
       "    <tr>\n",
       "      <th>4</th>\n",
       "      <td>F110Q1000096</td>\n",
       "      <td>False</td>\n",
       "      <td>1.033647</td>\n",
       "      <td>False</td>\n",
       "      <td>0</td>\n",
       "      <td>1</td>\n",
       "      <td>0</td>\n",
       "      <td>0</td>\n",
       "      <td>0</td>\n",
       "      <td>0</td>\n",
       "      <td>1</td>\n",
       "      <td>0</td>\n",
       "      <td>0.056486</td>\n",
       "      <td>-1.684464</td>\n",
       "      <td>-1.550085</td>\n",
       "      <td>0.095492</td>\n",
       "      <td>1.418119</td>\n",
       "      <td>0</td>\n",
       "      <td>0</td>\n",
       "      <td>1</td>\n",
       "    </tr>\n",
       "  </tbody>\n",
       "</table>\n",
       "</div>"
      ],
      "text/plain": [
       "  Loan Sequence Number  Loan Deliquency Within Year  Credit Score  \\\n",
       "0         F110Q1000008                        False      1.315958   \n",
       "1         F110Q1000064                        False      2.225823   \n",
       "2         F110Q1000072                        False      0.451469   \n",
       "3         F110Q1000080                        False     -1.733071   \n",
       "4         F110Q1000096                        False      1.033647   \n",
       "\n",
       "  First Time Homebuyer Flag  MortgageInsuranceFlag  Units_1  Units_2  Units_3  \\\n",
       "0                     False                      0        1        0        0   \n",
       "1                     False                      0        1        0        0   \n",
       "2                     False                      0        1        0        0   \n",
       "3                     False                      0        1        0        0   \n",
       "4                     False                      0        1        0        0   \n",
       "\n",
       "   Units_4  OccupancyStatus_I  OccupancyStatus_P  OccupancyStatus_S  \\\n",
       "0        0                  0                  1                  0   \n",
       "1        0                  0                  1                  0   \n",
       "2        0                  0                  1                  0   \n",
       "3        0                  0                  1                  0   \n",
       "4        0                  0                  1                  0   \n",
       "\n",
       "   Original Combined Loan-to-Value (CLTV)  \\\n",
       "0                               -1.606755   \n",
       "1                               -0.979511   \n",
       "2                                0.376283   \n",
       "3                                0.376283   \n",
       "4                                0.056486   \n",
       "\n",
       "   Original Debt-to-Income (DTI) Ratio  Original UPB  \\\n",
       "0                            -1.252988     -0.605955   \n",
       "1                            -0.599937     -1.446104   \n",
       "2                             0.139710     -0.350817   \n",
       "3                            -1.252988      1.545927   \n",
       "4                            -1.684464     -1.550085   \n",
       "\n",
       "   Original Loan-to-Value (LTV)  Original Interest Rate  Channel_B  Channel_C  \\\n",
       "0                     -1.588771                1.161976          0          0   \n",
       "1                     -0.949547                1.786156          0          0   \n",
       "2                      0.421111                1.418119          0          0   \n",
       "3                     -1.057485                1.786156          0          0   \n",
       "4                      0.095492                1.418119          0          0   \n",
       "\n",
       "   Channel_R  \n",
       "0          1  \n",
       "1          1  \n",
       "2          1  \n",
       "3          1  \n",
       "4          1  "
      ]
     },
     "execution_count": 70,
     "metadata": {},
     "output_type": "execute_result"
    }
   ],
   "source": [
    "dum_df = pd.get_dummies(training_dat['Channel'],prefix='Channel')\n",
    "for col in list(dum_df.columns):\n",
    "    training_dat2[col] = dum_df[col]\n",
    "training_dat2.head()"
   ]
  },
  {
   "cell_type": "code",
   "execution_count": 71,
   "id": "a6bb76e3",
   "metadata": {},
   "outputs": [
    {
     "name": "stderr",
     "output_type": "stream",
     "text": [
      "UserWarning: value_counts defaulting to pandas implementation.\n"
     ]
    },
    {
     "data": {
      "text/plain": [
       "N    395950\n",
       "Name: Prepayment Penalty Mortgage (PPM) Flag, dtype: int64"
      ]
     },
     "execution_count": 71,
     "metadata": {},
     "output_type": "execute_result"
    }
   ],
   "source": [
    "training_dat['Prepayment Penalty Mortgage (PPM) Flag'].value_counts()"
   ]
  },
  {
   "cell_type": "code",
   "execution_count": 72,
   "id": "88a17d6c",
   "metadata": {},
   "outputs": [
    {
     "data": {
      "text/plain": [
       "array(['N', nan], dtype=object)"
      ]
     },
     "execution_count": 72,
     "metadata": {},
     "output_type": "execute_result"
    }
   ],
   "source": [
    "# Only ns, so exclude this\n",
    "training_dat['Prepayment Penalty Mortgage (PPM) Flag'].unique()"
   ]
  },
  {
   "cell_type": "code",
   "execution_count": 73,
   "id": "b6ea9db0",
   "metadata": {},
   "outputs": [
    {
     "data": {
      "text/plain": [
       "FRM    396280\n",
       "_          57\n",
       "Name: Amortization Type (Formerly Product Type), dtype: int64"
      ]
     },
     "execution_count": 73,
     "metadata": {},
     "output_type": "execute_result"
    }
   ],
   "source": [
    "# Almost no non FRMs, so exclude\n",
    "training_dat['Amortization Type (Formerly Product Type)'].value_counts()"
   ]
  },
  {
   "cell_type": "code",
   "execution_count": 74,
   "id": "8ef398a0",
   "metadata": {},
   "outputs": [
    {
     "data": {
      "text/plain": [
       "SF    266922\n",
       "PU    100295\n",
       "CO     27220\n",
       "MH      1369\n",
       "CP       531\n",
       "Name: Property Type, dtype: int64"
      ]
     },
     "execution_count": 74,
     "metadata": {},
     "output_type": "execute_result"
    }
   ],
   "source": [
    "# Tranform Property Type\n",
    "training_dat['Property Type'].value_counts()"
   ]
  },
  {
   "cell_type": "code",
   "execution_count": 75,
   "id": "bb9c3ab6",
   "metadata": {},
   "outputs": [
    {
     "name": "stderr",
     "output_type": "stream",
     "text": [
      "UserWarning: `get_dummies` on non-DataFrame defaulting to pandas implementation.\n",
      "UserWarning: Distributing <class 'pandas.core.frame.DataFrame'> object. This may take some time.\n"
     ]
    },
    {
     "data": {
      "text/html": [
       "<div>\n",
       "<style scoped>\n",
       "    .dataframe tbody tr th:only-of-type {\n",
       "        vertical-align: middle;\n",
       "    }\n",
       "\n",
       "    .dataframe tbody tr th {\n",
       "        vertical-align: top;\n",
       "    }\n",
       "\n",
       "    .dataframe thead th {\n",
       "        text-align: right;\n",
       "    }\n",
       "</style>\n",
       "<table border=\"1\" class=\"dataframe\">\n",
       "  <thead>\n",
       "    <tr style=\"text-align: right;\">\n",
       "      <th></th>\n",
       "      <th>Loan Sequence Number</th>\n",
       "      <th>Loan Deliquency Within Year</th>\n",
       "      <th>Credit Score</th>\n",
       "      <th>First Time Homebuyer Flag</th>\n",
       "      <th>MortgageInsuranceFlag</th>\n",
       "      <th>Units_1</th>\n",
       "      <th>Units_2</th>\n",
       "      <th>Units_3</th>\n",
       "      <th>Units_4</th>\n",
       "      <th>OccupancyStatus_I</th>\n",
       "      <th>...</th>\n",
       "      <th>Original Loan-to-Value (LTV)</th>\n",
       "      <th>Original Interest Rate</th>\n",
       "      <th>Channel_B</th>\n",
       "      <th>Channel_C</th>\n",
       "      <th>Channel_R</th>\n",
       "      <th>PropertyType_CO</th>\n",
       "      <th>PropertyType_CP</th>\n",
       "      <th>PropertyType_MH</th>\n",
       "      <th>PropertyType_PU</th>\n",
       "      <th>PropertyType_SF</th>\n",
       "    </tr>\n",
       "  </thead>\n",
       "  <tbody>\n",
       "    <tr>\n",
       "      <th>0</th>\n",
       "      <td>F110Q1000008</td>\n",
       "      <td>False</td>\n",
       "      <td>1.315958</td>\n",
       "      <td>False</td>\n",
       "      <td>0</td>\n",
       "      <td>1</td>\n",
       "      <td>0</td>\n",
       "      <td>0</td>\n",
       "      <td>0</td>\n",
       "      <td>0</td>\n",
       "      <td>...</td>\n",
       "      <td>-1.588771</td>\n",
       "      <td>1.161976</td>\n",
       "      <td>0</td>\n",
       "      <td>0</td>\n",
       "      <td>1</td>\n",
       "      <td>0</td>\n",
       "      <td>0</td>\n",
       "      <td>0</td>\n",
       "      <td>0</td>\n",
       "      <td>1</td>\n",
       "    </tr>\n",
       "    <tr>\n",
       "      <th>1</th>\n",
       "      <td>F110Q1000064</td>\n",
       "      <td>False</td>\n",
       "      <td>2.225823</td>\n",
       "      <td>False</td>\n",
       "      <td>0</td>\n",
       "      <td>1</td>\n",
       "      <td>0</td>\n",
       "      <td>0</td>\n",
       "      <td>0</td>\n",
       "      <td>0</td>\n",
       "      <td>...</td>\n",
       "      <td>-0.949547</td>\n",
       "      <td>1.786156</td>\n",
       "      <td>0</td>\n",
       "      <td>0</td>\n",
       "      <td>1</td>\n",
       "      <td>0</td>\n",
       "      <td>0</td>\n",
       "      <td>0</td>\n",
       "      <td>0</td>\n",
       "      <td>1</td>\n",
       "    </tr>\n",
       "    <tr>\n",
       "      <th>2</th>\n",
       "      <td>F110Q1000072</td>\n",
       "      <td>False</td>\n",
       "      <td>0.451469</td>\n",
       "      <td>False</td>\n",
       "      <td>0</td>\n",
       "      <td>1</td>\n",
       "      <td>0</td>\n",
       "      <td>0</td>\n",
       "      <td>0</td>\n",
       "      <td>0</td>\n",
       "      <td>...</td>\n",
       "      <td>0.421111</td>\n",
       "      <td>1.418119</td>\n",
       "      <td>0</td>\n",
       "      <td>0</td>\n",
       "      <td>1</td>\n",
       "      <td>0</td>\n",
       "      <td>0</td>\n",
       "      <td>0</td>\n",
       "      <td>0</td>\n",
       "      <td>1</td>\n",
       "    </tr>\n",
       "    <tr>\n",
       "      <th>3</th>\n",
       "      <td>F110Q1000080</td>\n",
       "      <td>False</td>\n",
       "      <td>-1.733071</td>\n",
       "      <td>False</td>\n",
       "      <td>0</td>\n",
       "      <td>1</td>\n",
       "      <td>0</td>\n",
       "      <td>0</td>\n",
       "      <td>0</td>\n",
       "      <td>0</td>\n",
       "      <td>...</td>\n",
       "      <td>-1.057485</td>\n",
       "      <td>1.786156</td>\n",
       "      <td>0</td>\n",
       "      <td>0</td>\n",
       "      <td>1</td>\n",
       "      <td>0</td>\n",
       "      <td>0</td>\n",
       "      <td>0</td>\n",
       "      <td>0</td>\n",
       "      <td>1</td>\n",
       "    </tr>\n",
       "    <tr>\n",
       "      <th>4</th>\n",
       "      <td>F110Q1000096</td>\n",
       "      <td>False</td>\n",
       "      <td>1.033647</td>\n",
       "      <td>False</td>\n",
       "      <td>0</td>\n",
       "      <td>1</td>\n",
       "      <td>0</td>\n",
       "      <td>0</td>\n",
       "      <td>0</td>\n",
       "      <td>0</td>\n",
       "      <td>...</td>\n",
       "      <td>0.095492</td>\n",
       "      <td>1.418119</td>\n",
       "      <td>0</td>\n",
       "      <td>0</td>\n",
       "      <td>1</td>\n",
       "      <td>0</td>\n",
       "      <td>0</td>\n",
       "      <td>0</td>\n",
       "      <td>0</td>\n",
       "      <td>1</td>\n",
       "    </tr>\n",
       "  </tbody>\n",
       "</table>\n",
       "<p>5 rows x 25 columns</p>\n",
       "</div>"
      ],
      "text/plain": [
       "  Loan Sequence Number  Loan Deliquency Within Year  Credit Score  \\\n",
       "0         F110Q1000008                        False      1.315958   \n",
       "1         F110Q1000064                        False      2.225823   \n",
       "2         F110Q1000072                        False      0.451469   \n",
       "3         F110Q1000080                        False     -1.733071   \n",
       "4         F110Q1000096                        False      1.033647   \n",
       "\n",
       "  First Time Homebuyer Flag  MortgageInsuranceFlag  Units_1  Units_2  Units_3  \\\n",
       "0                     False                      0        1        0        0   \n",
       "1                     False                      0        1        0        0   \n",
       "2                     False                      0        1        0        0   \n",
       "3                     False                      0        1        0        0   \n",
       "4                     False                      0        1        0        0   \n",
       "\n",
       "   Units_4  OccupancyStatus_I  ...  Original Loan-to-Value (LTV)  \\\n",
       "0        0                  0  ...                     -1.588771   \n",
       "1        0                  0  ...                     -0.949547   \n",
       "2        0                  0  ...                      0.421111   \n",
       "3        0                  0  ...                     -1.057485   \n",
       "4        0                  0  ...                      0.095492   \n",
       "\n",
       "   Original Interest Rate  Channel_B  Channel_C  Channel_R  PropertyType_CO  \\\n",
       "0                1.161976          0          0          1                0   \n",
       "1                1.786156          0          0          1                0   \n",
       "2                1.418119          0          0          1                0   \n",
       "3                1.786156          0          0          1                0   \n",
       "4                1.418119          0          0          1                0   \n",
       "\n",
       "   PropertyType_CP  PropertyType_MH  PropertyType_PU  PropertyType_SF  \n",
       "0                0                0                0                1  \n",
       "1                0                0                0                1  \n",
       "2                0                0                0                1  \n",
       "3                0                0                0                1  \n",
       "4                0                0                0                1  \n",
       "\n",
       "[5 rows x 25 columns]"
      ]
     },
     "execution_count": 75,
     "metadata": {},
     "output_type": "execute_result"
    }
   ],
   "source": [
    "dum_df = pd.get_dummies(training_dat['Property Type'],prefix='PropertyType')\n",
    "for col in list(dum_df.columns):\n",
    "    training_dat2[col] = dum_df[col]\n",
    "training_dat2.head()"
   ]
  },
  {
   "cell_type": "code",
   "execution_count": 76,
   "id": "5e2fe59c",
   "metadata": {},
   "outputs": [
    {
     "name": "stderr",
     "output_type": "stream",
     "text": [
      "UserWarning: value_counts defaulting to pandas implementation.\n"
     ]
    },
    {
     "data": {
      "text/plain": [
       "P    186799\n",
       "N    114318\n",
       "C     95220\n",
       "Name: Loan Purpose, dtype: int64"
      ]
     },
     "execution_count": 76,
     "metadata": {},
     "output_type": "execute_result"
    }
   ],
   "source": [
    "# Transform Loan Purpose\n",
    "training_dat['Loan Purpose'].value_counts()"
   ]
  },
  {
   "cell_type": "code",
   "execution_count": 77,
   "id": "75cfbb45",
   "metadata": {},
   "outputs": [
    {
     "name": "stderr",
     "output_type": "stream",
     "text": [
      "UserWarning: `get_dummies` on non-DataFrame defaulting to pandas implementation.\n",
      "UserWarning: Distributing <class 'pandas.core.frame.DataFrame'> object. This may take some time.\n"
     ]
    },
    {
     "data": {
      "text/html": [
       "<div>\n",
       "<style scoped>\n",
       "    .dataframe tbody tr th:only-of-type {\n",
       "        vertical-align: middle;\n",
       "    }\n",
       "\n",
       "    .dataframe tbody tr th {\n",
       "        vertical-align: top;\n",
       "    }\n",
       "\n",
       "    .dataframe thead th {\n",
       "        text-align: right;\n",
       "    }\n",
       "</style>\n",
       "<table border=\"1\" class=\"dataframe\">\n",
       "  <thead>\n",
       "    <tr style=\"text-align: right;\">\n",
       "      <th></th>\n",
       "      <th>Loan Sequence Number</th>\n",
       "      <th>Loan Deliquency Within Year</th>\n",
       "      <th>Credit Score</th>\n",
       "      <th>First Time Homebuyer Flag</th>\n",
       "      <th>MortgageInsuranceFlag</th>\n",
       "      <th>Units_1</th>\n",
       "      <th>Units_2</th>\n",
       "      <th>Units_3</th>\n",
       "      <th>Units_4</th>\n",
       "      <th>OccupancyStatus_I</th>\n",
       "      <th>...</th>\n",
       "      <th>Channel_C</th>\n",
       "      <th>Channel_R</th>\n",
       "      <th>PropertyType_CO</th>\n",
       "      <th>PropertyType_CP</th>\n",
       "      <th>PropertyType_MH</th>\n",
       "      <th>PropertyType_PU</th>\n",
       "      <th>PropertyType_SF</th>\n",
       "      <th>LoanPurpose_C</th>\n",
       "      <th>LoanPurpose_N</th>\n",
       "      <th>LoanPurpose_P</th>\n",
       "    </tr>\n",
       "  </thead>\n",
       "  <tbody>\n",
       "    <tr>\n",
       "      <th>0</th>\n",
       "      <td>F110Q1000008</td>\n",
       "      <td>False</td>\n",
       "      <td>1.315958</td>\n",
       "      <td>False</td>\n",
       "      <td>0</td>\n",
       "      <td>1</td>\n",
       "      <td>0</td>\n",
       "      <td>0</td>\n",
       "      <td>0</td>\n",
       "      <td>0</td>\n",
       "      <td>...</td>\n",
       "      <td>0</td>\n",
       "      <td>1</td>\n",
       "      <td>0</td>\n",
       "      <td>0</td>\n",
       "      <td>0</td>\n",
       "      <td>0</td>\n",
       "      <td>1</td>\n",
       "      <td>0</td>\n",
       "      <td>1</td>\n",
       "      <td>0</td>\n",
       "    </tr>\n",
       "    <tr>\n",
       "      <th>1</th>\n",
       "      <td>F110Q1000064</td>\n",
       "      <td>False</td>\n",
       "      <td>2.225823</td>\n",
       "      <td>False</td>\n",
       "      <td>0</td>\n",
       "      <td>1</td>\n",
       "      <td>0</td>\n",
       "      <td>0</td>\n",
       "      <td>0</td>\n",
       "      <td>0</td>\n",
       "      <td>...</td>\n",
       "      <td>0</td>\n",
       "      <td>1</td>\n",
       "      <td>0</td>\n",
       "      <td>0</td>\n",
       "      <td>0</td>\n",
       "      <td>0</td>\n",
       "      <td>1</td>\n",
       "      <td>1</td>\n",
       "      <td>0</td>\n",
       "      <td>0</td>\n",
       "    </tr>\n",
       "    <tr>\n",
       "      <th>2</th>\n",
       "      <td>F110Q1000072</td>\n",
       "      <td>False</td>\n",
       "      <td>0.451469</td>\n",
       "      <td>False</td>\n",
       "      <td>0</td>\n",
       "      <td>1</td>\n",
       "      <td>0</td>\n",
       "      <td>0</td>\n",
       "      <td>0</td>\n",
       "      <td>0</td>\n",
       "      <td>...</td>\n",
       "      <td>0</td>\n",
       "      <td>1</td>\n",
       "      <td>0</td>\n",
       "      <td>0</td>\n",
       "      <td>0</td>\n",
       "      <td>0</td>\n",
       "      <td>1</td>\n",
       "      <td>0</td>\n",
       "      <td>1</td>\n",
       "      <td>0</td>\n",
       "    </tr>\n",
       "    <tr>\n",
       "      <th>3</th>\n",
       "      <td>F110Q1000080</td>\n",
       "      <td>False</td>\n",
       "      <td>-1.733071</td>\n",
       "      <td>False</td>\n",
       "      <td>0</td>\n",
       "      <td>1</td>\n",
       "      <td>0</td>\n",
       "      <td>0</td>\n",
       "      <td>0</td>\n",
       "      <td>0</td>\n",
       "      <td>...</td>\n",
       "      <td>0</td>\n",
       "      <td>1</td>\n",
       "      <td>0</td>\n",
       "      <td>0</td>\n",
       "      <td>0</td>\n",
       "      <td>0</td>\n",
       "      <td>1</td>\n",
       "      <td>0</td>\n",
       "      <td>1</td>\n",
       "      <td>0</td>\n",
       "    </tr>\n",
       "    <tr>\n",
       "      <th>4</th>\n",
       "      <td>F110Q1000096</td>\n",
       "      <td>False</td>\n",
       "      <td>1.033647</td>\n",
       "      <td>False</td>\n",
       "      <td>0</td>\n",
       "      <td>1</td>\n",
       "      <td>0</td>\n",
       "      <td>0</td>\n",
       "      <td>0</td>\n",
       "      <td>0</td>\n",
       "      <td>...</td>\n",
       "      <td>0</td>\n",
       "      <td>1</td>\n",
       "      <td>0</td>\n",
       "      <td>0</td>\n",
       "      <td>0</td>\n",
       "      <td>0</td>\n",
       "      <td>1</td>\n",
       "      <td>0</td>\n",
       "      <td>1</td>\n",
       "      <td>0</td>\n",
       "    </tr>\n",
       "  </tbody>\n",
       "</table>\n",
       "<p>5 rows x 28 columns</p>\n",
       "</div>"
      ],
      "text/plain": [
       "  Loan Sequence Number  Loan Deliquency Within Year  Credit Score  \\\n",
       "0         F110Q1000008                        False      1.315958   \n",
       "1         F110Q1000064                        False      2.225823   \n",
       "2         F110Q1000072                        False      0.451469   \n",
       "3         F110Q1000080                        False     -1.733071   \n",
       "4         F110Q1000096                        False      1.033647   \n",
       "\n",
       "  First Time Homebuyer Flag  MortgageInsuranceFlag  Units_1  Units_2  Units_3  \\\n",
       "0                     False                      0        1        0        0   \n",
       "1                     False                      0        1        0        0   \n",
       "2                     False                      0        1        0        0   \n",
       "3                     False                      0        1        0        0   \n",
       "4                     False                      0        1        0        0   \n",
       "\n",
       "   Units_4  OccupancyStatus_I  ...  Channel_C  Channel_R  PropertyType_CO  \\\n",
       "0        0                  0  ...          0          1                0   \n",
       "1        0                  0  ...          0          1                0   \n",
       "2        0                  0  ...          0          1                0   \n",
       "3        0                  0  ...          0          1                0   \n",
       "4        0                  0  ...          0          1                0   \n",
       "\n",
       "   PropertyType_CP  PropertyType_MH  PropertyType_PU  PropertyType_SF  \\\n",
       "0                0                0                0                1   \n",
       "1                0                0                0                1   \n",
       "2                0                0                0                1   \n",
       "3                0                0                0                1   \n",
       "4                0                0                0                1   \n",
       "\n",
       "   LoanPurpose_C  LoanPurpose_N  LoanPurpose_P  \n",
       "0              0              1              0  \n",
       "1              1              0              0  \n",
       "2              0              1              0  \n",
       "3              0              1              0  \n",
       "4              0              1              0  \n",
       "\n",
       "[5 rows x 28 columns]"
      ]
     },
     "execution_count": 77,
     "metadata": {},
     "output_type": "execute_result"
    }
   ],
   "source": [
    "dum_df = pd.get_dummies(training_dat['Loan Purpose'],prefix='LoanPurpose')\n",
    "for col in list(dum_df.columns):\n",
    "    training_dat2[col] = dum_df[col]\n",
    "training_dat2.head()"
   ]
  },
  {
   "cell_type": "code",
   "execution_count": 78,
   "id": "a20f715b",
   "metadata": {},
   "outputs": [
    {
     "name": "stderr",
     "output_type": "stream",
     "text": [
      "UserWarning: value_counts defaulting to pandas implementation.\n"
     ]
    },
    {
     "data": {
      "text/plain": [
       "360    292292\n",
       "180     74346\n",
       "240     18955\n",
       "120      6234\n",
       "300      2428\n",
       "144       282\n",
       "156       225\n",
       "168       153\n",
       "324       134\n",
       "336       126\n",
       "Name: Original Loan Term, dtype: int64"
      ]
     },
     "execution_count": 78,
     "metadata": {},
     "output_type": "execute_result"
    }
   ],
   "source": [
    "# Clean Original Loan Term\n",
    "# Going to go with one hot encoding, since most loans are 30,25,20,15 etc years\n",
    "training_dat['Original Loan Term'].value_counts().head(10)"
   ]
  },
  {
   "cell_type": "code",
   "execution_count": 79,
   "id": "9d60b84a",
   "metadata": {},
   "outputs": [
    {
     "data": {
      "text/html": [
       "<div>\n",
       "<style scoped>\n",
       "    .dataframe tbody tr th:only-of-type {\n",
       "        vertical-align: middle;\n",
       "    }\n",
       "\n",
       "    .dataframe tbody tr th {\n",
       "        vertical-align: top;\n",
       "    }\n",
       "\n",
       "    .dataframe thead th {\n",
       "        text-align: right;\n",
       "    }\n",
       "</style>\n",
       "<table border=\"1\" class=\"dataframe\">\n",
       "  <thead>\n",
       "    <tr style=\"text-align: right;\">\n",
       "      <th></th>\n",
       "      <th>Loan Sequence Number</th>\n",
       "      <th>Loan Deliquency Within Year</th>\n",
       "      <th>Credit Score</th>\n",
       "      <th>First Time Homebuyer Flag</th>\n",
       "      <th>MortgageInsuranceFlag</th>\n",
       "      <th>Units_1</th>\n",
       "      <th>Units_2</th>\n",
       "      <th>Units_3</th>\n",
       "      <th>Units_4</th>\n",
       "      <th>OccupancyStatus_I</th>\n",
       "      <th>...</th>\n",
       "      <th>PropertyType_PU</th>\n",
       "      <th>PropertyType_SF</th>\n",
       "      <th>LoanPurpose_C</th>\n",
       "      <th>LoanPurpose_N</th>\n",
       "      <th>LoanPurpose_P</th>\n",
       "      <th>LoanTerm_360</th>\n",
       "      <th>LoanTerm_180</th>\n",
       "      <th>LoanTerm_240</th>\n",
       "      <th>LoanTerm_120</th>\n",
       "      <th>LoanTerm_300</th>\n",
       "    </tr>\n",
       "  </thead>\n",
       "  <tbody>\n",
       "    <tr>\n",
       "      <th>0</th>\n",
       "      <td>F110Q1000008</td>\n",
       "      <td>False</td>\n",
       "      <td>1.315958</td>\n",
       "      <td>False</td>\n",
       "      <td>0</td>\n",
       "      <td>1</td>\n",
       "      <td>0</td>\n",
       "      <td>0</td>\n",
       "      <td>0</td>\n",
       "      <td>0</td>\n",
       "      <td>...</td>\n",
       "      <td>0</td>\n",
       "      <td>1</td>\n",
       "      <td>0</td>\n",
       "      <td>1</td>\n",
       "      <td>0</td>\n",
       "      <td>1</td>\n",
       "      <td>0</td>\n",
       "      <td>0</td>\n",
       "      <td>0</td>\n",
       "      <td>0</td>\n",
       "    </tr>\n",
       "    <tr>\n",
       "      <th>1</th>\n",
       "      <td>F110Q1000064</td>\n",
       "      <td>False</td>\n",
       "      <td>2.225823</td>\n",
       "      <td>False</td>\n",
       "      <td>0</td>\n",
       "      <td>1</td>\n",
       "      <td>0</td>\n",
       "      <td>0</td>\n",
       "      <td>0</td>\n",
       "      <td>0</td>\n",
       "      <td>...</td>\n",
       "      <td>0</td>\n",
       "      <td>1</td>\n",
       "      <td>1</td>\n",
       "      <td>0</td>\n",
       "      <td>0</td>\n",
       "      <td>1</td>\n",
       "      <td>0</td>\n",
       "      <td>0</td>\n",
       "      <td>0</td>\n",
       "      <td>0</td>\n",
       "    </tr>\n",
       "    <tr>\n",
       "      <th>2</th>\n",
       "      <td>F110Q1000072</td>\n",
       "      <td>False</td>\n",
       "      <td>0.451469</td>\n",
       "      <td>False</td>\n",
       "      <td>0</td>\n",
       "      <td>1</td>\n",
       "      <td>0</td>\n",
       "      <td>0</td>\n",
       "      <td>0</td>\n",
       "      <td>0</td>\n",
       "      <td>...</td>\n",
       "      <td>0</td>\n",
       "      <td>1</td>\n",
       "      <td>0</td>\n",
       "      <td>1</td>\n",
       "      <td>0</td>\n",
       "      <td>1</td>\n",
       "      <td>0</td>\n",
       "      <td>0</td>\n",
       "      <td>0</td>\n",
       "      <td>0</td>\n",
       "    </tr>\n",
       "    <tr>\n",
       "      <th>3</th>\n",
       "      <td>F110Q1000080</td>\n",
       "      <td>False</td>\n",
       "      <td>-1.733071</td>\n",
       "      <td>False</td>\n",
       "      <td>0</td>\n",
       "      <td>1</td>\n",
       "      <td>0</td>\n",
       "      <td>0</td>\n",
       "      <td>0</td>\n",
       "      <td>0</td>\n",
       "      <td>...</td>\n",
       "      <td>0</td>\n",
       "      <td>1</td>\n",
       "      <td>0</td>\n",
       "      <td>1</td>\n",
       "      <td>0</td>\n",
       "      <td>1</td>\n",
       "      <td>0</td>\n",
       "      <td>0</td>\n",
       "      <td>0</td>\n",
       "      <td>0</td>\n",
       "    </tr>\n",
       "    <tr>\n",
       "      <th>4</th>\n",
       "      <td>F110Q1000096</td>\n",
       "      <td>False</td>\n",
       "      <td>1.033647</td>\n",
       "      <td>False</td>\n",
       "      <td>0</td>\n",
       "      <td>1</td>\n",
       "      <td>0</td>\n",
       "      <td>0</td>\n",
       "      <td>0</td>\n",
       "      <td>0</td>\n",
       "      <td>...</td>\n",
       "      <td>0</td>\n",
       "      <td>1</td>\n",
       "      <td>0</td>\n",
       "      <td>1</td>\n",
       "      <td>0</td>\n",
       "      <td>1</td>\n",
       "      <td>0</td>\n",
       "      <td>0</td>\n",
       "      <td>0</td>\n",
       "      <td>0</td>\n",
       "    </tr>\n",
       "  </tbody>\n",
       "</table>\n",
       "<p>5 rows x 33 columns</p>\n",
       "</div>"
      ],
      "text/plain": [
       "  Loan Sequence Number  Loan Deliquency Within Year  Credit Score  \\\n",
       "0         F110Q1000008                        False      1.315958   \n",
       "1         F110Q1000064                        False      2.225823   \n",
       "2         F110Q1000072                        False      0.451469   \n",
       "3         F110Q1000080                        False     -1.733071   \n",
       "4         F110Q1000096                        False      1.033647   \n",
       "\n",
       "  First Time Homebuyer Flag  MortgageInsuranceFlag  Units_1  Units_2  Units_3  \\\n",
       "0                     False                      0        1        0        0   \n",
       "1                     False                      0        1        0        0   \n",
       "2                     False                      0        1        0        0   \n",
       "3                     False                      0        1        0        0   \n",
       "4                     False                      0        1        0        0   \n",
       "\n",
       "   Units_4  OccupancyStatus_I  ...  PropertyType_PU  PropertyType_SF  \\\n",
       "0        0                  0  ...                0                1   \n",
       "1        0                  0  ...                0                1   \n",
       "2        0                  0  ...                0                1   \n",
       "3        0                  0  ...                0                1   \n",
       "4        0                  0  ...                0                1   \n",
       "\n",
       "   LoanPurpose_C  LoanPurpose_N  LoanPurpose_P  LoanTerm_360  LoanTerm_180  \\\n",
       "0              0              1              0             1             0   \n",
       "1              1              0              0             1             0   \n",
       "2              0              1              0             1             0   \n",
       "3              0              1              0             1             0   \n",
       "4              0              1              0             1             0   \n",
       "\n",
       "   LoanTerm_240  LoanTerm_120  LoanTerm_300  \n",
       "0             0             0             0  \n",
       "1             0             0             0  \n",
       "2             0             0             0  \n",
       "3             0             0             0  \n",
       "4             0             0             0  \n",
       "\n",
       "[5 rows x 33 columns]"
      ]
     },
     "execution_count": 79,
     "metadata": {},
     "output_type": "execute_result"
    }
   ],
   "source": [
    "term_flags = [360,180,240,120,300]\n",
    "for term in term_flags:\n",
    "    col_name = 'LoanTerm_' + str(term)\n",
    "    training_dat2[col_name] = 0\n",
    "    tf = training_dat['Original Loan Term'] == term\n",
    "    training_dat2.loc[tf, col_name] = 1\n",
    "training_dat2.head()"
   ]
  },
  {
   "cell_type": "code",
   "execution_count": 80,
   "id": "413725d3",
   "metadata": {},
   "outputs": [
    {
     "data": {
      "text/plain": [
       "2428"
      ]
     },
     "execution_count": 80,
     "metadata": {},
     "output_type": "execute_result"
    }
   ],
   "source": [
    "training_dat2['LoanTerm_300'].sum()"
   ]
  },
  {
   "cell_type": "code",
   "execution_count": 81,
   "id": "4c16162c",
   "metadata": {},
   "outputs": [
    {
     "data": {
      "text/html": [
       "<div>\n",
       "<style scoped>\n",
       "    .dataframe tbody tr th:only-of-type {\n",
       "        vertical-align: middle;\n",
       "    }\n",
       "\n",
       "    .dataframe tbody tr th {\n",
       "        vertical-align: top;\n",
       "    }\n",
       "\n",
       "    .dataframe thead th {\n",
       "        text-align: right;\n",
       "    }\n",
       "</style>\n",
       "<table border=\"1\" class=\"dataframe\">\n",
       "  <thead>\n",
       "    <tr style=\"text-align: right;\">\n",
       "      <th></th>\n",
       "      <th>Loan Sequence Number</th>\n",
       "      <th>Loan Deliquency Within Year</th>\n",
       "      <th>Credit Score</th>\n",
       "      <th>First Time Homebuyer Flag</th>\n",
       "      <th>MortgageInsuranceFlag</th>\n",
       "      <th>Units_1</th>\n",
       "      <th>Units_2</th>\n",
       "      <th>Units_3</th>\n",
       "      <th>Units_4</th>\n",
       "      <th>OccupancyStatus_I</th>\n",
       "      <th>...</th>\n",
       "      <th>PropertyType_SF</th>\n",
       "      <th>LoanPurpose_C</th>\n",
       "      <th>LoanPurpose_N</th>\n",
       "      <th>LoanPurpose_P</th>\n",
       "      <th>LoanTerm_360</th>\n",
       "      <th>LoanTerm_180</th>\n",
       "      <th>LoanTerm_240</th>\n",
       "      <th>LoanTerm_120</th>\n",
       "      <th>LoanTerm_300</th>\n",
       "      <th>Original Loan Term</th>\n",
       "    </tr>\n",
       "  </thead>\n",
       "  <tbody>\n",
       "    <tr>\n",
       "      <th>0</th>\n",
       "      <td>F110Q1000008</td>\n",
       "      <td>False</td>\n",
       "      <td>1.315958</td>\n",
       "      <td>False</td>\n",
       "      <td>0</td>\n",
       "      <td>1</td>\n",
       "      <td>0</td>\n",
       "      <td>0</td>\n",
       "      <td>0</td>\n",
       "      <td>0</td>\n",
       "      <td>...</td>\n",
       "      <td>1</td>\n",
       "      <td>0</td>\n",
       "      <td>1</td>\n",
       "      <td>0</td>\n",
       "      <td>1</td>\n",
       "      <td>0</td>\n",
       "      <td>0</td>\n",
       "      <td>0</td>\n",
       "      <td>0</td>\n",
       "      <td>0.334851</td>\n",
       "    </tr>\n",
       "    <tr>\n",
       "      <th>1</th>\n",
       "      <td>F110Q1000064</td>\n",
       "      <td>False</td>\n",
       "      <td>2.225823</td>\n",
       "      <td>False</td>\n",
       "      <td>0</td>\n",
       "      <td>1</td>\n",
       "      <td>0</td>\n",
       "      <td>0</td>\n",
       "      <td>0</td>\n",
       "      <td>0</td>\n",
       "      <td>...</td>\n",
       "      <td>1</td>\n",
       "      <td>1</td>\n",
       "      <td>0</td>\n",
       "      <td>0</td>\n",
       "      <td>1</td>\n",
       "      <td>0</td>\n",
       "      <td>0</td>\n",
       "      <td>0</td>\n",
       "      <td>0</td>\n",
       "      <td>0.334851</td>\n",
       "    </tr>\n",
       "    <tr>\n",
       "      <th>2</th>\n",
       "      <td>F110Q1000072</td>\n",
       "      <td>False</td>\n",
       "      <td>0.451469</td>\n",
       "      <td>False</td>\n",
       "      <td>0</td>\n",
       "      <td>1</td>\n",
       "      <td>0</td>\n",
       "      <td>0</td>\n",
       "      <td>0</td>\n",
       "      <td>0</td>\n",
       "      <td>...</td>\n",
       "      <td>1</td>\n",
       "      <td>0</td>\n",
       "      <td>1</td>\n",
       "      <td>0</td>\n",
       "      <td>1</td>\n",
       "      <td>0</td>\n",
       "      <td>0</td>\n",
       "      <td>0</td>\n",
       "      <td>0</td>\n",
       "      <td>0.334851</td>\n",
       "    </tr>\n",
       "    <tr>\n",
       "      <th>3</th>\n",
       "      <td>F110Q1000080</td>\n",
       "      <td>False</td>\n",
       "      <td>-1.733071</td>\n",
       "      <td>False</td>\n",
       "      <td>0</td>\n",
       "      <td>1</td>\n",
       "      <td>0</td>\n",
       "      <td>0</td>\n",
       "      <td>0</td>\n",
       "      <td>0</td>\n",
       "      <td>...</td>\n",
       "      <td>1</td>\n",
       "      <td>0</td>\n",
       "      <td>1</td>\n",
       "      <td>0</td>\n",
       "      <td>1</td>\n",
       "      <td>0</td>\n",
       "      <td>0</td>\n",
       "      <td>0</td>\n",
       "      <td>0</td>\n",
       "      <td>0.334851</td>\n",
       "    </tr>\n",
       "    <tr>\n",
       "      <th>4</th>\n",
       "      <td>F110Q1000096</td>\n",
       "      <td>False</td>\n",
       "      <td>1.033647</td>\n",
       "      <td>False</td>\n",
       "      <td>0</td>\n",
       "      <td>1</td>\n",
       "      <td>0</td>\n",
       "      <td>0</td>\n",
       "      <td>0</td>\n",
       "      <td>0</td>\n",
       "      <td>...</td>\n",
       "      <td>1</td>\n",
       "      <td>0</td>\n",
       "      <td>1</td>\n",
       "      <td>0</td>\n",
       "      <td>1</td>\n",
       "      <td>0</td>\n",
       "      <td>0</td>\n",
       "      <td>0</td>\n",
       "      <td>0</td>\n",
       "      <td>0.334851</td>\n",
       "    </tr>\n",
       "  </tbody>\n",
       "</table>\n",
       "<p>5 rows x 34 columns</p>\n",
       "</div>"
      ],
      "text/plain": [
       "  Loan Sequence Number  Loan Deliquency Within Year  Credit Score  \\\n",
       "0         F110Q1000008                        False      1.315958   \n",
       "1         F110Q1000064                        False      2.225823   \n",
       "2         F110Q1000072                        False      0.451469   \n",
       "3         F110Q1000080                        False     -1.733071   \n",
       "4         F110Q1000096                        False      1.033647   \n",
       "\n",
       "  First Time Homebuyer Flag  MortgageInsuranceFlag  Units_1  Units_2  Units_3  \\\n",
       "0                     False                      0        1        0        0   \n",
       "1                     False                      0        1        0        0   \n",
       "2                     False                      0        1        0        0   \n",
       "3                     False                      0        1        0        0   \n",
       "4                     False                      0        1        0        0   \n",
       "\n",
       "   Units_4  OccupancyStatus_I  ...  PropertyType_SF  LoanPurpose_C  \\\n",
       "0        0                  0  ...                1              0   \n",
       "1        0                  0  ...                1              1   \n",
       "2        0                  0  ...                1              0   \n",
       "3        0                  0  ...                1              0   \n",
       "4        0                  0  ...                1              0   \n",
       "\n",
       "   LoanPurpose_N  LoanPurpose_P  LoanTerm_360  LoanTerm_180  LoanTerm_240  \\\n",
       "0              1              0             1             0             0   \n",
       "1              0              0             1             0             0   \n",
       "2              1              0             1             0             0   \n",
       "3              1              0             1             0             0   \n",
       "4              1              0             1             0             0   \n",
       "\n",
       "   LoanTerm_120  LoanTerm_300  Original Loan Term  \n",
       "0             0             0            0.334851  \n",
       "1             0             0            0.334851  \n",
       "2             0             0            0.334851  \n",
       "3             0             0            0.334851  \n",
       "4             0             0            0.334851  \n",
       "\n",
       "[5 rows x 34 columns]"
      ]
     },
     "execution_count": 81,
     "metadata": {},
     "output_type": "execute_result"
    }
   ],
   "source": [
    "# Will also try continuous feature\n",
    "scaler_0_1_loanterm = QuantileTransformer(output_distribution='normal')\n",
    "training_dat2['Original Loan Term'] = scaler_0_1_loanterm.fit_transform(training_dat[['Original Loan Term']])\n",
    "training_dat2.head()"
   ]
  },
  {
   "cell_type": "code",
   "execution_count": 82,
   "id": "03fc1912",
   "metadata": {},
   "outputs": [],
   "source": [
    "scaler_dct['Original Loan Term'] = scaler_0_1_loanterm"
   ]
  },
  {
   "cell_type": "code",
   "execution_count": 83,
   "id": "41a88c8a",
   "metadata": {},
   "outputs": [
    {
     "name": "stderr",
     "output_type": "stream",
     "text": [
      "UserWarning: value_counts defaulting to pandas implementation.\n"
     ]
    },
    {
     "data": {
      "text/plain": [
       "2    213369\n",
       "1    182968\n",
       "Name: Number of Borrowers, dtype: int64"
      ]
     },
     "execution_count": 83,
     "metadata": {},
     "output_type": "execute_result"
    }
   ],
   "source": [
    "# Transform Number of Borrowers\n",
    "training_dat['Number of Borrowers'].value_counts()"
   ]
  },
  {
   "cell_type": "code",
   "execution_count": 84,
   "id": "c963b6a2",
   "metadata": {},
   "outputs": [],
   "source": [
    "training_dat2['OneBorrower'] = 0\n",
    "tf = training_dat['Number of Borrowers'] == 1\n",
    "training_dat2.loc[tf, 'OneBorrower'] = 1"
   ]
  },
  {
   "cell_type": "code",
   "execution_count": 85,
   "id": "5ef371de",
   "metadata": {},
   "outputs": [
    {
     "data": {
      "text/html": [
       "<div>\n",
       "<style scoped>\n",
       "    .dataframe tbody tr th:only-of-type {\n",
       "        vertical-align: middle;\n",
       "    }\n",
       "\n",
       "    .dataframe tbody tr th {\n",
       "        vertical-align: top;\n",
       "    }\n",
       "\n",
       "    .dataframe thead th {\n",
       "        text-align: right;\n",
       "    }\n",
       "</style>\n",
       "<table border=\"1\" class=\"dataframe\">\n",
       "  <thead>\n",
       "    <tr style=\"text-align: right;\">\n",
       "      <th></th>\n",
       "      <th>Loan Sequence Number</th>\n",
       "      <th>Loan Deliquency Within Year</th>\n",
       "      <th>Credit Score</th>\n",
       "      <th>First Time Homebuyer Flag</th>\n",
       "      <th>MortgageInsuranceFlag</th>\n",
       "      <th>Units_1</th>\n",
       "      <th>Units_2</th>\n",
       "      <th>Units_3</th>\n",
       "      <th>Units_4</th>\n",
       "      <th>OccupancyStatus_I</th>\n",
       "      <th>...</th>\n",
       "      <th>LoanPurpose_C</th>\n",
       "      <th>LoanPurpose_N</th>\n",
       "      <th>LoanPurpose_P</th>\n",
       "      <th>LoanTerm_360</th>\n",
       "      <th>LoanTerm_180</th>\n",
       "      <th>LoanTerm_240</th>\n",
       "      <th>LoanTerm_120</th>\n",
       "      <th>LoanTerm_300</th>\n",
       "      <th>Original Loan Term</th>\n",
       "      <th>OneBorrower</th>\n",
       "    </tr>\n",
       "  </thead>\n",
       "  <tbody>\n",
       "    <tr>\n",
       "      <th>0</th>\n",
       "      <td>F110Q1000008</td>\n",
       "      <td>False</td>\n",
       "      <td>1.315958</td>\n",
       "      <td>False</td>\n",
       "      <td>0</td>\n",
       "      <td>1</td>\n",
       "      <td>0</td>\n",
       "      <td>0</td>\n",
       "      <td>0</td>\n",
       "      <td>0</td>\n",
       "      <td>...</td>\n",
       "      <td>0</td>\n",
       "      <td>1</td>\n",
       "      <td>0</td>\n",
       "      <td>1</td>\n",
       "      <td>0</td>\n",
       "      <td>0</td>\n",
       "      <td>0</td>\n",
       "      <td>0</td>\n",
       "      <td>0.334851</td>\n",
       "      <td>0</td>\n",
       "    </tr>\n",
       "    <tr>\n",
       "      <th>1</th>\n",
       "      <td>F110Q1000064</td>\n",
       "      <td>False</td>\n",
       "      <td>2.225823</td>\n",
       "      <td>False</td>\n",
       "      <td>0</td>\n",
       "      <td>1</td>\n",
       "      <td>0</td>\n",
       "      <td>0</td>\n",
       "      <td>0</td>\n",
       "      <td>0</td>\n",
       "      <td>...</td>\n",
       "      <td>1</td>\n",
       "      <td>0</td>\n",
       "      <td>0</td>\n",
       "      <td>1</td>\n",
       "      <td>0</td>\n",
       "      <td>0</td>\n",
       "      <td>0</td>\n",
       "      <td>0</td>\n",
       "      <td>0.334851</td>\n",
       "      <td>1</td>\n",
       "    </tr>\n",
       "    <tr>\n",
       "      <th>2</th>\n",
       "      <td>F110Q1000072</td>\n",
       "      <td>False</td>\n",
       "      <td>0.451469</td>\n",
       "      <td>False</td>\n",
       "      <td>0</td>\n",
       "      <td>1</td>\n",
       "      <td>0</td>\n",
       "      <td>0</td>\n",
       "      <td>0</td>\n",
       "      <td>0</td>\n",
       "      <td>...</td>\n",
       "      <td>0</td>\n",
       "      <td>1</td>\n",
       "      <td>0</td>\n",
       "      <td>1</td>\n",
       "      <td>0</td>\n",
       "      <td>0</td>\n",
       "      <td>0</td>\n",
       "      <td>0</td>\n",
       "      <td>0.334851</td>\n",
       "      <td>0</td>\n",
       "    </tr>\n",
       "    <tr>\n",
       "      <th>3</th>\n",
       "      <td>F110Q1000080</td>\n",
       "      <td>False</td>\n",
       "      <td>-1.733071</td>\n",
       "      <td>False</td>\n",
       "      <td>0</td>\n",
       "      <td>1</td>\n",
       "      <td>0</td>\n",
       "      <td>0</td>\n",
       "      <td>0</td>\n",
       "      <td>0</td>\n",
       "      <td>...</td>\n",
       "      <td>0</td>\n",
       "      <td>1</td>\n",
       "      <td>0</td>\n",
       "      <td>1</td>\n",
       "      <td>0</td>\n",
       "      <td>0</td>\n",
       "      <td>0</td>\n",
       "      <td>0</td>\n",
       "      <td>0.334851</td>\n",
       "      <td>1</td>\n",
       "    </tr>\n",
       "    <tr>\n",
       "      <th>4</th>\n",
       "      <td>F110Q1000096</td>\n",
       "      <td>False</td>\n",
       "      <td>1.033647</td>\n",
       "      <td>False</td>\n",
       "      <td>0</td>\n",
       "      <td>1</td>\n",
       "      <td>0</td>\n",
       "      <td>0</td>\n",
       "      <td>0</td>\n",
       "      <td>0</td>\n",
       "      <td>...</td>\n",
       "      <td>0</td>\n",
       "      <td>1</td>\n",
       "      <td>0</td>\n",
       "      <td>1</td>\n",
       "      <td>0</td>\n",
       "      <td>0</td>\n",
       "      <td>0</td>\n",
       "      <td>0</td>\n",
       "      <td>0.334851</td>\n",
       "      <td>1</td>\n",
       "    </tr>\n",
       "  </tbody>\n",
       "</table>\n",
       "<p>5 rows x 35 columns</p>\n",
       "</div>"
      ],
      "text/plain": [
       "  Loan Sequence Number  Loan Deliquency Within Year  Credit Score  \\\n",
       "0         F110Q1000008                        False      1.315958   \n",
       "1         F110Q1000064                        False      2.225823   \n",
       "2         F110Q1000072                        False      0.451469   \n",
       "3         F110Q1000080                        False     -1.733071   \n",
       "4         F110Q1000096                        False      1.033647   \n",
       "\n",
       "  First Time Homebuyer Flag  MortgageInsuranceFlag  Units_1  Units_2  Units_3  \\\n",
       "0                     False                      0        1        0        0   \n",
       "1                     False                      0        1        0        0   \n",
       "2                     False                      0        1        0        0   \n",
       "3                     False                      0        1        0        0   \n",
       "4                     False                      0        1        0        0   \n",
       "\n",
       "   Units_4  OccupancyStatus_I  ...  LoanPurpose_C  LoanPurpose_N  \\\n",
       "0        0                  0  ...              0              1   \n",
       "1        0                  0  ...              1              0   \n",
       "2        0                  0  ...              0              1   \n",
       "3        0                  0  ...              0              1   \n",
       "4        0                  0  ...              0              1   \n",
       "\n",
       "   LoanPurpose_P  LoanTerm_360  LoanTerm_180  LoanTerm_240  LoanTerm_120  \\\n",
       "0              0             1             0             0             0   \n",
       "1              0             1             0             0             0   \n",
       "2              0             1             0             0             0   \n",
       "3              0             1             0             0             0   \n",
       "4              0             1             0             0             0   \n",
       "\n",
       "   LoanTerm_300  Original Loan Term  OneBorrower  \n",
       "0             0            0.334851            0  \n",
       "1             0            0.334851            1  \n",
       "2             0            0.334851            0  \n",
       "3             0            0.334851            1  \n",
       "4             0            0.334851            1  \n",
       "\n",
       "[5 rows x 35 columns]"
      ]
     },
     "execution_count": 85,
     "metadata": {},
     "output_type": "execute_result"
    }
   ],
   "source": [
    "training_dat2.head()"
   ]
  },
  {
   "cell_type": "code",
   "execution_count": 86,
   "id": "7704575b",
   "metadata": {},
   "outputs": [
    {
     "name": "stderr",
     "output_type": "stream",
     "text": [
      "UserWarning: value_counts defaulting to pandas implementation.\n"
     ]
    },
    {
     "data": {
      "text/plain": [
       "9    393058\n",
       "H      3279\n",
       "Name: Program Indicator, dtype: int64"
      ]
     },
     "execution_count": 86,
     "metadata": {},
     "output_type": "execute_result"
    }
   ],
   "source": [
    "# Transform Program Indicator\n",
    "training_dat['Program Indicator'].value_counts()"
   ]
  },
  {
   "cell_type": "code",
   "execution_count": 87,
   "id": "21de3a0a",
   "metadata": {},
   "outputs": [
    {
     "data": {
      "text/html": [
       "<div>\n",
       "<style scoped>\n",
       "    .dataframe tbody tr th:only-of-type {\n",
       "        vertical-align: middle;\n",
       "    }\n",
       "\n",
       "    .dataframe tbody tr th {\n",
       "        vertical-align: top;\n",
       "    }\n",
       "\n",
       "    .dataframe thead th {\n",
       "        text-align: right;\n",
       "    }\n",
       "</style>\n",
       "<table border=\"1\" class=\"dataframe\">\n",
       "  <thead>\n",
       "    <tr style=\"text-align: right;\">\n",
       "      <th></th>\n",
       "      <th>Loan Sequence Number</th>\n",
       "      <th>Loan Deliquency Within Year</th>\n",
       "      <th>Credit Score</th>\n",
       "      <th>First Time Homebuyer Flag</th>\n",
       "      <th>MortgageInsuranceFlag</th>\n",
       "      <th>Units_1</th>\n",
       "      <th>Units_2</th>\n",
       "      <th>Units_3</th>\n",
       "      <th>Units_4</th>\n",
       "      <th>OccupancyStatus_I</th>\n",
       "      <th>...</th>\n",
       "      <th>LoanPurpose_N</th>\n",
       "      <th>LoanPurpose_P</th>\n",
       "      <th>LoanTerm_360</th>\n",
       "      <th>LoanTerm_180</th>\n",
       "      <th>LoanTerm_240</th>\n",
       "      <th>LoanTerm_120</th>\n",
       "      <th>LoanTerm_300</th>\n",
       "      <th>Original Loan Term</th>\n",
       "      <th>OneBorrower</th>\n",
       "      <th>AffordableProgramFlag</th>\n",
       "    </tr>\n",
       "  </thead>\n",
       "  <tbody>\n",
       "    <tr>\n",
       "      <th>0</th>\n",
       "      <td>F110Q1000008</td>\n",
       "      <td>False</td>\n",
       "      <td>1.315958</td>\n",
       "      <td>False</td>\n",
       "      <td>0</td>\n",
       "      <td>1</td>\n",
       "      <td>0</td>\n",
       "      <td>0</td>\n",
       "      <td>0</td>\n",
       "      <td>0</td>\n",
       "      <td>...</td>\n",
       "      <td>1</td>\n",
       "      <td>0</td>\n",
       "      <td>1</td>\n",
       "      <td>0</td>\n",
       "      <td>0</td>\n",
       "      <td>0</td>\n",
       "      <td>0</td>\n",
       "      <td>0.334851</td>\n",
       "      <td>0</td>\n",
       "      <td>0</td>\n",
       "    </tr>\n",
       "    <tr>\n",
       "      <th>1</th>\n",
       "      <td>F110Q1000064</td>\n",
       "      <td>False</td>\n",
       "      <td>2.225823</td>\n",
       "      <td>False</td>\n",
       "      <td>0</td>\n",
       "      <td>1</td>\n",
       "      <td>0</td>\n",
       "      <td>0</td>\n",
       "      <td>0</td>\n",
       "      <td>0</td>\n",
       "      <td>...</td>\n",
       "      <td>0</td>\n",
       "      <td>0</td>\n",
       "      <td>1</td>\n",
       "      <td>0</td>\n",
       "      <td>0</td>\n",
       "      <td>0</td>\n",
       "      <td>0</td>\n",
       "      <td>0.334851</td>\n",
       "      <td>1</td>\n",
       "      <td>0</td>\n",
       "    </tr>\n",
       "    <tr>\n",
       "      <th>2</th>\n",
       "      <td>F110Q1000072</td>\n",
       "      <td>False</td>\n",
       "      <td>0.451469</td>\n",
       "      <td>False</td>\n",
       "      <td>0</td>\n",
       "      <td>1</td>\n",
       "      <td>0</td>\n",
       "      <td>0</td>\n",
       "      <td>0</td>\n",
       "      <td>0</td>\n",
       "      <td>...</td>\n",
       "      <td>1</td>\n",
       "      <td>0</td>\n",
       "      <td>1</td>\n",
       "      <td>0</td>\n",
       "      <td>0</td>\n",
       "      <td>0</td>\n",
       "      <td>0</td>\n",
       "      <td>0.334851</td>\n",
       "      <td>0</td>\n",
       "      <td>0</td>\n",
       "    </tr>\n",
       "    <tr>\n",
       "      <th>3</th>\n",
       "      <td>F110Q1000080</td>\n",
       "      <td>False</td>\n",
       "      <td>-1.733071</td>\n",
       "      <td>False</td>\n",
       "      <td>0</td>\n",
       "      <td>1</td>\n",
       "      <td>0</td>\n",
       "      <td>0</td>\n",
       "      <td>0</td>\n",
       "      <td>0</td>\n",
       "      <td>...</td>\n",
       "      <td>1</td>\n",
       "      <td>0</td>\n",
       "      <td>1</td>\n",
       "      <td>0</td>\n",
       "      <td>0</td>\n",
       "      <td>0</td>\n",
       "      <td>0</td>\n",
       "      <td>0.334851</td>\n",
       "      <td>1</td>\n",
       "      <td>0</td>\n",
       "    </tr>\n",
       "    <tr>\n",
       "      <th>4</th>\n",
       "      <td>F110Q1000096</td>\n",
       "      <td>False</td>\n",
       "      <td>1.033647</td>\n",
       "      <td>False</td>\n",
       "      <td>0</td>\n",
       "      <td>1</td>\n",
       "      <td>0</td>\n",
       "      <td>0</td>\n",
       "      <td>0</td>\n",
       "      <td>0</td>\n",
       "      <td>...</td>\n",
       "      <td>1</td>\n",
       "      <td>0</td>\n",
       "      <td>1</td>\n",
       "      <td>0</td>\n",
       "      <td>0</td>\n",
       "      <td>0</td>\n",
       "      <td>0</td>\n",
       "      <td>0.334851</td>\n",
       "      <td>1</td>\n",
       "      <td>0</td>\n",
       "    </tr>\n",
       "  </tbody>\n",
       "</table>\n",
       "<p>5 rows x 36 columns</p>\n",
       "</div>"
      ],
      "text/plain": [
       "  Loan Sequence Number  Loan Deliquency Within Year  Credit Score  \\\n",
       "0         F110Q1000008                        False      1.315958   \n",
       "1         F110Q1000064                        False      2.225823   \n",
       "2         F110Q1000072                        False      0.451469   \n",
       "3         F110Q1000080                        False     -1.733071   \n",
       "4         F110Q1000096                        False      1.033647   \n",
       "\n",
       "  First Time Homebuyer Flag  MortgageInsuranceFlag  Units_1  Units_2  Units_3  \\\n",
       "0                     False                      0        1        0        0   \n",
       "1                     False                      0        1        0        0   \n",
       "2                     False                      0        1        0        0   \n",
       "3                     False                      0        1        0        0   \n",
       "4                     False                      0        1        0        0   \n",
       "\n",
       "   Units_4  OccupancyStatus_I  ...  LoanPurpose_N  LoanPurpose_P  \\\n",
       "0        0                  0  ...              1              0   \n",
       "1        0                  0  ...              0              0   \n",
       "2        0                  0  ...              1              0   \n",
       "3        0                  0  ...              1              0   \n",
       "4        0                  0  ...              1              0   \n",
       "\n",
       "   LoanTerm_360  LoanTerm_180  LoanTerm_240  LoanTerm_120  LoanTerm_300  \\\n",
       "0             1             0             0             0             0   \n",
       "1             1             0             0             0             0   \n",
       "2             1             0             0             0             0   \n",
       "3             1             0             0             0             0   \n",
       "4             1             0             0             0             0   \n",
       "\n",
       "   Original Loan Term  OneBorrower  AffordableProgramFlag  \n",
       "0            0.334851            0                      0  \n",
       "1            0.334851            1                      0  \n",
       "2            0.334851            0                      0  \n",
       "3            0.334851            1                      0  \n",
       "4            0.334851            1                      0  \n",
       "\n",
       "[5 rows x 36 columns]"
      ]
     },
     "execution_count": 87,
     "metadata": {},
     "output_type": "execute_result"
    }
   ],
   "source": [
    "training_dat2['AffordableProgramFlag'] = 0\n",
    "tf = training_dat['Program Indicator'] == 'H'\n",
    "training_dat2.loc[tf,'AffordableProgramFlag'] = 1\n",
    "training_dat2.head()"
   ]
  },
  {
   "cell_type": "code",
   "execution_count": 88,
   "id": "40fa32d8",
   "metadata": {},
   "outputs": [
    {
     "data": {
      "text/plain": [
       "0        NaN\n",
       "1        NaN\n",
       "2        NaN\n",
       "3        NaN\n",
       "4        NaN\n",
       "          ..\n",
       "396333   NaN\n",
       "396334   NaN\n",
       "396335   NaN\n",
       "396336   NaN\n",
       "396337   NaN\n",
       "Name: Interest Only (I/O) Indicator, Length: 396337, dtype: float64"
      ]
     },
     "execution_count": 88,
     "metadata": {},
     "output_type": "execute_result"
    }
   ],
   "source": [
    "# Exclude Property Valuation Method (2017 onwards only)\n",
    "# Exclude Interest Only (I/O) Indicator nans only\n",
    "training_dat['Interest Only (I/O) Indicator']"
   ]
  },
  {
   "cell_type": "code",
   "execution_count": 89,
   "id": "257f181c",
   "metadata": {},
   "outputs": [
    {
     "data": {
      "text/plain": [
       "Index(['Loan Sequence Number', 'Loan Deliquency Within Year', 'Credit Score',\n",
       "       'First Time Homebuyer Flag', 'MortgageInsuranceFlag', 'Units_1',\n",
       "       'Units_2', 'Units_3', 'Units_4', 'OccupancyStatus_I',\n",
       "       'OccupancyStatus_P', 'OccupancyStatus_S',\n",
       "       'Original Combined Loan-to-Value (CLTV)',\n",
       "       'Original Debt-to-Income (DTI) Ratio', 'Original UPB',\n",
       "       'Original Loan-to-Value (LTV)', 'Original Interest Rate', 'Channel_B',\n",
       "       'Channel_C', 'Channel_R', 'PropertyType_CO', 'PropertyType_CP',\n",
       "       'PropertyType_MH', 'PropertyType_PU', 'PropertyType_SF',\n",
       "       'LoanPurpose_C', 'LoanPurpose_N', 'LoanPurpose_P', 'LoanTerm_360',\n",
       "       'LoanTerm_180', 'LoanTerm_240', 'LoanTerm_120', 'LoanTerm_300',\n",
       "       'Original Loan Term', 'OneBorrower', 'AffordableProgramFlag'],\n",
       "      dtype='object')"
      ]
     },
     "execution_count": 89,
     "metadata": {},
     "output_type": "execute_result"
    }
   ],
   "source": [
    "training_dat2.columns"
   ]
  },
  {
   "cell_type": "code",
   "execution_count": 90,
   "id": "ee52b483",
   "metadata": {},
   "outputs": [
    {
     "data": {
      "text/plain": [
       "36"
      ]
     },
     "execution_count": 90,
     "metadata": {},
     "output_type": "execute_result"
    }
   ],
   "source": [
    "len(training_dat2.columns)"
   ]
  },
  {
   "cell_type": "code",
   "execution_count": 91,
   "id": "fad5ece0",
   "metadata": {},
   "outputs": [],
   "source": [
    "tf1 = training_dat2['Loan Deliquency Within Year'] == True\n",
    "tf2 = training_dat2['Loan Deliquency Within Year'] == False\n",
    "training_dat2.loc[tf1, 'Loan Deliquency Within Year'] = 1\n",
    "training_dat2.loc[tf2, 'Loan Deliquency Within Year'] = 0"
   ]
  },
  {
   "cell_type": "code",
   "execution_count": 92,
   "id": "a5625001",
   "metadata": {},
   "outputs": [],
   "source": [
    "tf1 = training_dat2['First Time Homebuyer Flag'] == True\n",
    "tf2 = training_dat2['First Time Homebuyer Flag'] == False\n",
    "training_dat2.loc[tf1, 'First Time Homebuyer Flag'] = 1\n",
    "training_dat2.loc[tf2, 'First Time Homebuyer Flag'] = 0"
   ]
  },
  {
   "cell_type": "code",
   "execution_count": 93,
   "id": "212cfa5e",
   "metadata": {},
   "outputs": [
    {
     "data": {
      "text/plain": [
       "Loan Sequence Number                           0\n",
       "Loan Deliquency Within Year                    0\n",
       "Credit Score                                  22\n",
       "First Time Homebuyer Flag                 215276\n",
       "MortgageInsuranceFlag                          0\n",
       "Units_1                                        0\n",
       "Units_2                                        0\n",
       "Units_3                                        0\n",
       "Units_4                                        0\n",
       "OccupancyStatus_I                              0\n",
       "OccupancyStatus_P                              0\n",
       "OccupancyStatus_S                              0\n",
       "Original Combined Loan-to-Value (CLTV)        11\n",
       "Original Debt-to-Income (DTI) Ratio           37\n",
       "Original UPB                                   0\n",
       "Original Loan-to-Value (LTV)                  11\n",
       "Original Interest Rate                         0\n",
       "Channel_B                                      0\n",
       "Channel_C                                      0\n",
       "Channel_R                                      0\n",
       "PropertyType_CO                                0\n",
       "PropertyType_CP                                0\n",
       "PropertyType_MH                                0\n",
       "PropertyType_PU                                0\n",
       "PropertyType_SF                                0\n",
       "LoanPurpose_C                                  0\n",
       "LoanPurpose_N                                  0\n",
       "LoanPurpose_P                                  0\n",
       "LoanTerm_360                                   0\n",
       "LoanTerm_180                                   0\n",
       "LoanTerm_240                                   0\n",
       "LoanTerm_120                                   0\n",
       "LoanTerm_300                                   0\n",
       "Original Loan Term                             0\n",
       "OneBorrower                                    0\n",
       "AffordableProgramFlag                          0\n",
       "dtype: int64"
      ]
     },
     "execution_count": 93,
     "metadata": {},
     "output_type": "execute_result"
    }
   ],
   "source": [
    "training_dat2.isnull().sum()"
   ]
  },
  {
   "cell_type": "code",
   "execution_count": 94,
   "id": "1ecb3540",
   "metadata": {},
   "outputs": [],
   "source": [
    "# Get rid of first time homebuyer flag, and then drop all nulls\n",
    "del training_dat2['First Time Homebuyer Flag']\n",
    "training_dat2.dropna(inplace=True)"
   ]
  },
  {
   "cell_type": "code",
   "execution_count": 95,
   "id": "efe459cc",
   "metadata": {},
   "outputs": [
    {
     "data": {
      "text/plain": [
       "396267"
      ]
     },
     "execution_count": 95,
     "metadata": {},
     "output_type": "execute_result"
    }
   ],
   "source": [
    "len(training_dat2)"
   ]
  },
  {
   "cell_type": "code",
   "execution_count": 96,
   "id": "e4320cd8",
   "metadata": {},
   "outputs": [
    {
     "name": "stderr",
     "output_type": "stream",
     "text": [
      "UserWarning: `DataFrame.to_pickle` defaulting to pandas implementation.\n",
      "UserWarning: Distributing <class 'pandas.core.frame.DataFrame'> object. This may take some time.\n"
     ]
    }
   ],
   "source": [
    "training_dat2.to_pickle('./PROCESSED/training_dat2.pkl')"
   ]
  },
  {
   "cell_type": "code",
   "execution_count": 97,
   "id": "034f66e0",
   "metadata": {},
   "outputs": [],
   "source": [
    "with open(\"./PROCESSED/scalers.pkl\",\"wb\") as f:\n",
    "    pickle.dump(scaler_dct, f)"
   ]
  },
  {
   "cell_type": "code",
   "execution_count": null,
   "id": "0eb8d58d",
   "metadata": {},
   "outputs": [],
   "source": []
  }
 ],
 "metadata": {
  "kernelspec": {
   "display_name": "Python 3",
   "language": "python",
   "name": "python3"
  },
  "language_info": {
   "codemirror_mode": {
    "name": "ipython",
    "version": 3
   },
   "file_extension": ".py",
   "mimetype": "text/x-python",
   "name": "python",
   "nbconvert_exporter": "python",
   "pygments_lexer": "ipython3",
   "version": "3.7.3"
  }
 },
 "nbformat": 4,
 "nbformat_minor": 5
}
